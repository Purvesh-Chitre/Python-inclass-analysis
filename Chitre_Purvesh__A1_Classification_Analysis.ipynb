{
 "cells": [
  {
   "cell_type": "markdown",
   "id": "35195e15",
   "metadata": {},
   "source": [
    "**_______________________________________________________________________________________________**<br>\n",
    "**A1: Classification Model Development (Individual)**<br>\n",
    "<br>\n",
    "**DAT-5303 | Machine Learning**<br>\n",
    "**_______________________________________________________________________________________________**<br>\n",
    "**Purvesh Chitre**<br>\n",
    "**_______________________________________________________________________________________________**\n",
    "**_______________________________________________________________________________________________**"
   ]
  },
  {
   "cell_type": "markdown",
   "id": "410833df",
   "metadata": {},
   "source": [
    "Importing the required libraries"
   ]
  },
  {
   "cell_type": "markdown",
   "id": "6a1a1508",
   "metadata": {},
   "source": [
    "I start with importing the required libraries like pandas for data science visualization, matplotlib and seaborn for data visualization and enhanced data visualization, Statsmodels for regression modeling, numpy for mathematical applications. These are relatively basic libraries I imported first to get started. Then I specifically imported certain models and modules from larger libraries so as to not slowdown any program processing speeds. Here I started importing train-test split, cross validation, standard scalar, pipeline, standard scalar and randomized search to further improve the modeling of data to work with Linear Regression and other machine learning models from sklearn like Decision Tree, random forest and Gradient Boost regressor for understanding the impact of certain independent variables from the available dataset of Apprentice_Chef_Dataset on the Revenue or log_Revenue.\n",
    "This time I also add the sklearn.ensemble models like GradientBoostingClassifier and KNeighborsClassifier, DecisionTreeClassifier as we are running a classification model.\n",
    "I also import roc_auc_score from sklearn.metrics as we are required to gather the AUC scores. We also bring Logistic Regression along with RandomTreeClassifier for the classification and GridSearchCV for hyper tuning purposes."
   ]
  },
  {
   "cell_type": "code",
   "execution_count": 1,
   "id": "b5a2680b",
   "metadata": {
    "deletable": false,
    "editable": false
   },
   "outputs": [],
   "source": [
    "# importing libraries\n",
    "\n",
    "import pandas                      as pd                     # data science essentials\n",
    "import matplotlib.pyplot           as plt                    # data visualization\n",
    "import seaborn                     as sns                    # enhanced data visualization\n",
    "import statsmodels.formula.api     as smf                    # regression modeling\n",
    "import numpy                       as np                     # mathematical essentials\n",
    "from   sklearn.metrics         import roc_auc_score, accuracy_score # accuracy_score\n",
    "from   sklearn.model_selection import train_test_split       # train/test split\n",
    "import sklearn.linear_model                                  # linear modeling in scikit-learn\n",
    "from   sklearn.model_selection import cross_val_score        # cross-validation\n",
    "from   sklearn.preprocessing   import StandardScaler         # standard scalar\n",
    "from   sklearn.pipeline        import Pipeline               # pipeline\n",
    "from   sklearn.model_selection import RandomizedSearchCV     # hyperparameter tuning\n",
    "from   sklearn.metrics         import confusion_matrix       # confusion matrix\n",
    "from   sklearn.metrics         import roc_auc_score          # auc score\n",
    "from   sklearn.neighbors       import KNeighborsClassifier   # KNN for classification\n",
    "from   sklearn.neighbors       import KNeighborsRegressor    # KNN for regression\n",
    "from   sklearn.tree            import DecisionTreeClassifier # classification trees\n",
    "from   sklearn.tree            import plot_tree              # tree plots\n",
    "from   sklearn.linear_model    import LogisticRegression     # logistic regression\n",
    "from   sklearn.model_selection import GridSearchCV           # gridsearch cv\n",
    "\n",
    "# importing machine learning models\n",
    "from sklearn.ensemble import RandomForestClassifier          # random forest classifier\n",
    "from sklearn.tree     import DecisionTreeRegressor           # regression trees\n",
    "from sklearn.ensemble import RandomForestRegressor           # random forest\n",
    "from sklearn.ensemble import GradientBoostingRegressor       # gbm\n",
    "from sklearn.ensemble import GradientBoostingClassifier      # GBM classifier\n",
    "\n",
    "# read / loading data\n",
    "\n",
    "Cross_Sell_Success_Data = pd.read_excel('./Cross_Sell_Success_Dataset_2023.xlsx')\n",
    "\n",
    "\n",
    "# log transforming REVENUE and saving it to the dataset\n",
    "\n",
    "Cross_Sell_Success_Data['log_REVENUE'] = np.log(Cross_Sell_Success_Data['REVENUE'])"
   ]
  },
  {
   "cell_type": "markdown",
   "id": "f5bbb482",
   "metadata": {},
   "source": [
    "The first task when we import a new dataset is to understand what it is. Hence we run the .info() to understand the type of data in the various columns, the size of the dataset, the number of columns, the column names, how many counts each column has, how many null values the columns have in them through this ritual."
   ]
  },
  {
   "cell_type": "code",
   "execution_count": 2,
   "id": "20d59d4f",
   "metadata": {},
   "outputs": [
    {
     "name": "stdout",
     "output_type": "stream",
     "text": [
      "<class 'pandas.core.frame.DataFrame'>\n",
      "RangeIndex: 1946 entries, 0 to 1945\n",
      "Data columns (total 18 columns):\n",
      " #   Column                       Non-Null Count  Dtype  \n",
      "---  ------                       --------------  -----  \n",
      " 0   CROSS_SELL_SUCCESS           1946 non-null   int64  \n",
      " 1   EMAIL                        1946 non-null   object \n",
      " 2   REVENUE                      1946 non-null   float64\n",
      " 3   TOTAL_MEALS_ORDERED          1946 non-null   int64  \n",
      " 4   UNIQUE_MEALS_PURCH           1946 non-null   int64  \n",
      " 5   CONTACTS_W_CUSTOMER_SERVICE  1946 non-null   int64  \n",
      " 6   PRODUCT_CATEGORIES_VIEWED    1946 non-null   int64  \n",
      " 7   AVG_TIME_PER_SITE_VISIT      1946 non-null   float64\n",
      " 8   CANCELLATIONS_AFTER_NOON     1946 non-null   int64  \n",
      " 9   PC_LOGINS                    1946 non-null   int64  \n",
      " 10  MOBILE_LOGINS                1946 non-null   int64  \n",
      " 11  WEEKLY_PLAN                  1946 non-null   int64  \n",
      " 12  LATE_DELIVERIES              1946 non-null   int64  \n",
      " 13  AVG_PREP_VID_TIME            1946 non-null   float64\n",
      " 14  LARGEST_ORDER_SIZE           1946 non-null   int64  \n",
      " 15  AVG_MEAN_RATING              1946 non-null   float64\n",
      " 16  TOTAL_PHOTOS_VIEWED          1946 non-null   int64  \n",
      " 17  log_REVENUE                  1946 non-null   float64\n",
      "dtypes: float64(5), int64(12), object(1)\n",
      "memory usage: 273.8+ KB\n"
     ]
    }
   ],
   "source": [
    "# exploring the data with info\n",
    "\n",
    "Cross_Sell_Success_Data.info()"
   ]
  },
  {
   "cell_type": "markdown",
   "id": "f2cf3e45",
   "metadata": {},
   "source": [
    "We had come corrections based on the document shared by the company about the column LARGEST_ORDER_SIZE being mistyped instead of AVG_MEAL_PER_CUSTOMER, so correcting that with the dataset.rename() method. Due to personal tastes, I renamed the columns to the format I am most comfortable with."
   ]
  },
  {
   "cell_type": "code",
   "execution_count": 3,
   "id": "fe120e4b",
   "metadata": {},
   "outputs": [],
   "source": [
    "# Replacing names and making the columns easier to read and type.\n",
    "# Replacing the mislabled column of 'LARGEST_ORDER_SIZE' to 'avg_meals_per_customer'\n",
    "\n",
    "Cross_Sell_Success_Data.rename(columns = { 'CROSS_SELL_SUCCESS':'cross_sell_success', \n",
    "                                          'EMAIL':'email', 'REVENUE':'revenue', \n",
    "                                          'TOTAL_MEALS_ORDERED':'total_meals_ordered',\n",
    "                                          'UNIQUE_MEALS_PURCH':'unique_meals_ordered',\n",
    "                                          'CONTACTS_W_CUSTOMER_SERVICE':'contacts_w_customer_service',\n",
    "                                          'PRODUCT_CATEGORIES_VIEWED':'product_categories_viewed', \n",
    "                                          'AVG_TIME_PER_SITE_VISIT':'avg_time_per_site_visit',\n",
    "                                          'CANCELLATIONS_AFTER_NOON':'cancellations_after_noon', \n",
    "                                          'PC_LOGINS':'pc_logins', 'MOBILE_LOGINS':'mobile_logins', \n",
    "                                          'WEEKLY_PLAN':'weekly_plan', 'LATE_DELIVERIES ':'late_deliveries', \n",
    "                                          'AVG_PREP_VID_TIME':'avg_prep_vid_time', \n",
    "                                          'LARGEST_ORDER_SIZE':'avg_meals_per_customer', \n",
    "                                          'AVG_MEAN_RATING':'avg_mean_rating', \n",
    "                                          'TOTAL_PHOTOS_VIEWED':'total_photos_viewed', \n",
    "                                          'log_REVENUE':'log_revenue'}, inplace = True)"
   ]
  },
  {
   "cell_type": "markdown",
   "id": "349a9ea0",
   "metadata": {},
   "source": [
    "I ran the .info() again to make suer that I have addressed all the columns and the changes are to my liking. I also make sure that no unnecessary changes have been made here to the naming and which may impact me calling the respective columns later on of the various model testing and analysis."
   ]
  },
  {
   "cell_type": "code",
   "execution_count": 4,
   "id": "9b69d97f",
   "metadata": {},
   "outputs": [
    {
     "name": "stdout",
     "output_type": "stream",
     "text": [
      "<class 'pandas.core.frame.DataFrame'>\n",
      "RangeIndex: 1946 entries, 0 to 1945\n",
      "Data columns (total 18 columns):\n",
      " #   Column                       Non-Null Count  Dtype  \n",
      "---  ------                       --------------  -----  \n",
      " 0   cross_sell_success           1946 non-null   int64  \n",
      " 1   email                        1946 non-null   object \n",
      " 2   revenue                      1946 non-null   float64\n",
      " 3   total_meals_ordered          1946 non-null   int64  \n",
      " 4   unique_meals_ordered         1946 non-null   int64  \n",
      " 5   contacts_w_customer_service  1946 non-null   int64  \n",
      " 6   product_categories_viewed    1946 non-null   int64  \n",
      " 7   avg_time_per_site_visit      1946 non-null   float64\n",
      " 8   cancellations_after_noon     1946 non-null   int64  \n",
      " 9   pc_logins                    1946 non-null   int64  \n",
      " 10  mobile_logins                1946 non-null   int64  \n",
      " 11  weekly_plan                  1946 non-null   int64  \n",
      " 12  late_deliveries              1946 non-null   int64  \n",
      " 13  avg_prep_vid_time            1946 non-null   float64\n",
      " 14  avg_meals_per_customer       1946 non-null   int64  \n",
      " 15  avg_mean_rating              1946 non-null   float64\n",
      " 16  total_photos_viewed          1946 non-null   int64  \n",
      " 17  log_revenue                  1946 non-null   float64\n",
      "dtypes: float64(5), int64(12), object(1)\n",
      "memory usage: 273.8+ KB\n"
     ]
    }
   ],
   "source": [
    "# exploring the data with info and updated column names\n",
    "\n",
    "Cross_Sell_Success_Data.info()"
   ]
  },
  {
   "cell_type": "markdown",
   "id": "11350835",
   "metadata": {},
   "source": [
    "Based on the document shared along with the data and having read through it the company wanted the email data to be classified into three domains.\\\n",
    "With the information given from the Apprentice_Chef case pdf document, we found out the way the company categoriezes its customers based on the customer's email id.\n",
    "We were told that emails ending with,['mmm.com', 'amex.com', 'apple.com', 'boeing.com', 'caterpillar.com', 'chevron.com', 'cisco.com', 'cocacola.com', 'disney.com', 'dupont.com', 'exxon.com', 'ge.org', 'goldmansacs.com', 'homedepot.com', 'ibm.com', 'intel.com', 'jnj.com', 'jpmorgan.com', 'mcdonalds.com', 'merck.com', 'microsoft.com', 'nike.com', 'pfizer.com', 'pg.com', 'travelers.com', 'unitedtech.com', 'unitedhealth.com', 'verizon.com', 'visa.com', 'walmart.com'] are to be classified under professional domain category. Emails ending with ['gmail.com', 'yahoo.com', 'protonmail.com'] are to be categorized in personal domain category. And emails ending with ['me.com', 'aol.com', 'hotmail.com', 'live.com', 'msn.com', 'passport.com'] to be classified in junk domain category.\n",
    "To do this I used the above code to get new columns set up with the dummy variables marking it up as 1 where the customer emails show up in the said column. This is likely to help with regression to understand if certain email categories have an impact on the revenue or not. While also giving us a count of the type of customers we have in the respective domain categories. Helping to create 3 engineered features."
   ]
  },
  {
   "cell_type": "code",
   "execution_count": 5,
   "id": "9a700b47",
   "metadata": {},
   "outputs": [
    {
     "data": {
      "text/html": [
       "<div>\n",
       "<style scoped>\n",
       "    .dataframe tbody tr th:only-of-type {\n",
       "        vertical-align: middle;\n",
       "    }\n",
       "\n",
       "    .dataframe tbody tr th {\n",
       "        vertical-align: top;\n",
       "    }\n",
       "\n",
       "    .dataframe thead th {\n",
       "        text-align: right;\n",
       "    }\n",
       "</style>\n",
       "<table border=\"1\" class=\"dataframe\">\n",
       "  <thead>\n",
       "    <tr style=\"text-align: right;\">\n",
       "      <th></th>\n",
       "      <th>cross_sell_success</th>\n",
       "      <th>email</th>\n",
       "      <th>revenue</th>\n",
       "      <th>total_meals_ordered</th>\n",
       "      <th>unique_meals_ordered</th>\n",
       "      <th>contacts_w_customer_service</th>\n",
       "      <th>product_categories_viewed</th>\n",
       "      <th>avg_time_per_site_visit</th>\n",
       "      <th>cancellations_after_noon</th>\n",
       "      <th>pc_logins</th>\n",
       "      <th>...</th>\n",
       "      <th>weekly_plan</th>\n",
       "      <th>late_deliveries</th>\n",
       "      <th>avg_prep_vid_time</th>\n",
       "      <th>avg_meals_per_customer</th>\n",
       "      <th>avg_mean_rating</th>\n",
       "      <th>total_photos_viewed</th>\n",
       "      <th>log_revenue</th>\n",
       "      <th>domain_junk</th>\n",
       "      <th>domain_personal</th>\n",
       "      <th>domain_professional</th>\n",
       "    </tr>\n",
       "  </thead>\n",
       "  <tbody>\n",
       "    <tr>\n",
       "      <th>0</th>\n",
       "      <td>1</td>\n",
       "      <td>steffon.baratheon@yahoo.com</td>\n",
       "      <td>4920.0</td>\n",
       "      <td>493</td>\n",
       "      <td>9</td>\n",
       "      <td>1</td>\n",
       "      <td>10</td>\n",
       "      <td>265.6</td>\n",
       "      <td>5</td>\n",
       "      <td>5</td>\n",
       "      <td>...</td>\n",
       "      <td>0</td>\n",
       "      <td>0</td>\n",
       "      <td>137.41</td>\n",
       "      <td>6</td>\n",
       "      <td>2.894737</td>\n",
       "      <td>456</td>\n",
       "      <td>8.501064</td>\n",
       "      <td>0</td>\n",
       "      <td>1</td>\n",
       "      <td>0</td>\n",
       "    </tr>\n",
       "    <tr>\n",
       "      <th>1</th>\n",
       "      <td>0</td>\n",
       "      <td>harlon.greyjoy@visa.com</td>\n",
       "      <td>6150.0</td>\n",
       "      <td>361</td>\n",
       "      <td>9</td>\n",
       "      <td>1</td>\n",
       "      <td>6</td>\n",
       "      <td>247.0</td>\n",
       "      <td>2</td>\n",
       "      <td>5</td>\n",
       "      <td>...</td>\n",
       "      <td>0</td>\n",
       "      <td>0</td>\n",
       "      <td>120.20</td>\n",
       "      <td>5</td>\n",
       "      <td>2.631579</td>\n",
       "      <td>680</td>\n",
       "      <td>8.724207</td>\n",
       "      <td>0</td>\n",
       "      <td>0</td>\n",
       "      <td>1</td>\n",
       "    </tr>\n",
       "    <tr>\n",
       "      <th>2</th>\n",
       "      <td>0</td>\n",
       "      <td>monster@protonmail.com</td>\n",
       "      <td>3435.0</td>\n",
       "      <td>278</td>\n",
       "      <td>6</td>\n",
       "      <td>1</td>\n",
       "      <td>4</td>\n",
       "      <td>164.4</td>\n",
       "      <td>0</td>\n",
       "      <td>6</td>\n",
       "      <td>...</td>\n",
       "      <td>5</td>\n",
       "      <td>0</td>\n",
       "      <td>127.00</td>\n",
       "      <td>3</td>\n",
       "      <td>3.684211</td>\n",
       "      <td>145</td>\n",
       "      <td>8.141772</td>\n",
       "      <td>0</td>\n",
       "      <td>1</td>\n",
       "      <td>0</td>\n",
       "    </tr>\n",
       "    <tr>\n",
       "      <th>3</th>\n",
       "      <td>1</td>\n",
       "      <td>damon.lannister.(lord)@yahoo.com</td>\n",
       "      <td>3330.0</td>\n",
       "      <td>269</td>\n",
       "      <td>8</td>\n",
       "      <td>1</td>\n",
       "      <td>2</td>\n",
       "      <td>176.0</td>\n",
       "      <td>5</td>\n",
       "      <td>5</td>\n",
       "      <td>...</td>\n",
       "      <td>0</td>\n",
       "      <td>0</td>\n",
       "      <td>129.78</td>\n",
       "      <td>6</td>\n",
       "      <td>3.157895</td>\n",
       "      <td>418</td>\n",
       "      <td>8.110728</td>\n",
       "      <td>0</td>\n",
       "      <td>1</td>\n",
       "      <td>0</td>\n",
       "    </tr>\n",
       "    <tr>\n",
       "      <th>4</th>\n",
       "      <td>1</td>\n",
       "      <td>raynald.westerling@jnj.com</td>\n",
       "      <td>3427.5</td>\n",
       "      <td>276</td>\n",
       "      <td>7</td>\n",
       "      <td>1</td>\n",
       "      <td>10</td>\n",
       "      <td>164.6</td>\n",
       "      <td>0</td>\n",
       "      <td>6</td>\n",
       "      <td>...</td>\n",
       "      <td>14</td>\n",
       "      <td>0</td>\n",
       "      <td>34.42</td>\n",
       "      <td>3</td>\n",
       "      <td>3.157895</td>\n",
       "      <td>174</td>\n",
       "      <td>8.139586</td>\n",
       "      <td>0</td>\n",
       "      <td>0</td>\n",
       "      <td>1</td>\n",
       "    </tr>\n",
       "  </tbody>\n",
       "</table>\n",
       "<p>5 rows × 21 columns</p>\n",
       "</div>"
      ],
      "text/plain": [
       "   cross_sell_success                             email  revenue  \\\n",
       "0                   1       steffon.baratheon@yahoo.com   4920.0   \n",
       "1                   0           harlon.greyjoy@visa.com   6150.0   \n",
       "2                   0            monster@protonmail.com   3435.0   \n",
       "3                   1  damon.lannister.(lord)@yahoo.com   3330.0   \n",
       "4                   1        raynald.westerling@jnj.com   3427.5   \n",
       "\n",
       "   total_meals_ordered  unique_meals_ordered  contacts_w_customer_service  \\\n",
       "0                  493                     9                            1   \n",
       "1                  361                     9                            1   \n",
       "2                  278                     6                            1   \n",
       "3                  269                     8                            1   \n",
       "4                  276                     7                            1   \n",
       "\n",
       "   product_categories_viewed  avg_time_per_site_visit  \\\n",
       "0                         10                    265.6   \n",
       "1                          6                    247.0   \n",
       "2                          4                    164.4   \n",
       "3                          2                    176.0   \n",
       "4                         10                    164.6   \n",
       "\n",
       "   cancellations_after_noon  pc_logins  ...  weekly_plan  late_deliveries  \\\n",
       "0                         5          5  ...            0                0   \n",
       "1                         2          5  ...            0                0   \n",
       "2                         0          6  ...            5                0   \n",
       "3                         5          5  ...            0                0   \n",
       "4                         0          6  ...           14                0   \n",
       "\n",
       "   avg_prep_vid_time  avg_meals_per_customer  avg_mean_rating  \\\n",
       "0             137.41                       6         2.894737   \n",
       "1             120.20                       5         2.631579   \n",
       "2             127.00                       3         3.684211   \n",
       "3             129.78                       6         3.157895   \n",
       "4              34.42                       3         3.157895   \n",
       "\n",
       "   total_photos_viewed  log_revenue  domain_junk  domain_personal  \\\n",
       "0                  456     8.501064            0                1   \n",
       "1                  680     8.724207            0                0   \n",
       "2                  145     8.141772            0                1   \n",
       "3                  418     8.110728            0                1   \n",
       "4                  174     8.139586            0                0   \n",
       "\n",
       "   domain_professional  \n",
       "0                    0  \n",
       "1                    1  \n",
       "2                    0  \n",
       "3                    0  \n",
       "4                    1  \n",
       "\n",
       "[5 rows x 21 columns]"
      ]
     },
     "execution_count": 5,
     "metadata": {},
     "output_type": "execute_result"
    }
   ],
   "source": [
    "# professional domain customer emails\n",
    "\n",
    "professional = ['mmm.com', 'amex.com', 'apple.com', 'boeing.com', \n",
    "                'caterpillar.com', 'chevron.com', 'cisco.com',\n",
    "                'cocacola.com', 'disney.com', 'dupont.com', \n",
    "                'exxon.com', 'ge.org', 'goldmansacs.com', 'homedepot.com',\n",
    "                'ibm.com', 'intel.com', 'jnj.com', 'jpmorgan.com', \n",
    "                'mcdonalds.com', 'merck.com', 'microsoft.com',\n",
    "                'nike.com', 'pfizer.com', 'pg.com', 'travelers.com', \n",
    "                'unitedtech.com', 'unitedhealth.com',\n",
    "                'verizon.com', 'visa.com', 'walmart.com']\n",
    "\n",
    "\n",
    "# personal domain customer emails\n",
    "\n",
    "personal     = ['gmail.com', 'yahoo.com', 'protonmail.com']\n",
    "\n",
    "\n",
    "# junk domain customer emails\n",
    "\n",
    "junk         = ['me.com', 'aol.com', 'hotmail.com', 'live.com', \n",
    "                'msn.com', 'passport.com']\n",
    "\n",
    "\n",
    "# creating columns of each domain \n",
    "\n",
    "Cross_Sell_Success_Data['domain'] = 'other'\n",
    "Cross_Sell_Success_Data.loc[Cross_Sell_Success_Data['email'].str.endswith(tuple(professional)), 'domain'] = 'professional'\n",
    "Cross_Sell_Success_Data.loc[Cross_Sell_Success_Data['email'].str.endswith(tuple(personal)), 'domain'] = 'personal'\n",
    "Cross_Sell_Success_Data.loc[Cross_Sell_Success_Data['email'].str.endswith(tuple(junk)), 'domain'] = 'junk'\n",
    "\n",
    "\n",
    "# inserting dummy variables for the domains based on the type of domain\n",
    "\n",
    "Cross_Sell_Success_Data = pd.get_dummies(Cross_Sell_Success_Data, columns=['domain'], prefix='domain')\n",
    "\n",
    "\n",
    "# Checking the dataset with the addition of the columns with dummy data\n",
    "\n",
    "Cross_Sell_Success_Data.head(n=5)"
   ]
  },
  {
   "cell_type": "markdown",
   "id": "6dc6ee77",
   "metadata": {},
   "source": [
    "To Flags all columns that have missing values with 'm-COLUMN_NAME. Splits values in a string Series (as part of a DataFrame) and sums the number\n",
    "of resulting items. Automatically appends summed column to original DataFrame."
   ]
  },
  {
   "cell_type": "code",
   "execution_count": 6,
   "id": "5c76263b",
   "metadata": {
    "deletable": false,
    "editable": false
   },
   "outputs": [],
   "source": [
    "# user-defined functions\n",
    "\n",
    "#########################\n",
    "# mv_flagger\n",
    "#########################\n",
    "def mv_flagger(df):\n",
    "    \"\"\"\n",
    "Flags all columns that have missing values with 'm-COLUMN_NAME'.\n",
    "\n",
    "PARAMETERS\n",
    "----------\n",
    "df : DataFrame to flag missing values\n",
    "\n",
    "\n",
    "RETURNS\n",
    "-------\n",
    "DataFrame with missing value flags.\"\"\"\n",
    "\n",
    "\n",
    "    for col in df:\n",
    "\n",
    "        if df[col].isnull().astype(int).sum() > 0:\n",
    "            df['m_'+col] = df[col].isnull().astype(int)\n",
    "            \n",
    "    return df\n",
    "\n",
    "\n",
    "\n",
    "#########################\n",
    "# text_split_feature\n",
    "#########################\n",
    "def text_split_feature(col, df, sep=' ', new_col_name='number_of_names'):\n",
    "    \"\"\"\n",
    "Splits values in a string Series (as part of a DataFrame) and sums the number\n",
    "of resulting items. Automatically appends summed column to original DataFrame.\n",
    "\n",
    "PARAMETERS\n",
    "----------\n",
    "col          : column to split\n",
    "df           : DataFrame where column is located\n",
    "sep          : string sequence to split by, default ' '\n",
    "new_col_name : name of new column after summing split, default\n",
    "               'number_of_names'\n",
    "\"\"\"\n",
    "    \n",
    "    df[new_col_name] = 0\n",
    "    \n",
    "    \n",
    "    for index, val in df.iterrows():\n",
    "        df.loc[index, new_col_name] = len(df.loc[index, col].split(sep = ' '))"
   ]
  },
  {
   "cell_type": "markdown",
   "id": "477a6bf5",
   "metadata": {},
   "source": [
    "Taking the Cross_Sell_Success_Data dataset and then transforming it into boolean based on if a value is null and then summing together the results per column."
   ]
  },
  {
   "cell_type": "code",
   "execution_count": 7,
   "id": "ffed9717",
   "metadata": {
    "deletable": false,
    "editable": false
   },
   "outputs": [
    {
     "data": {
      "text/plain": [
       "cross_sell_success             0\n",
       "email                          0\n",
       "revenue                        0\n",
       "total_meals_ordered            0\n",
       "unique_meals_ordered           0\n",
       "contacts_w_customer_service    0\n",
       "product_categories_viewed      0\n",
       "avg_time_per_site_visit        0\n",
       "cancellations_after_noon       0\n",
       "pc_logins                      0\n",
       "mobile_logins                  0\n",
       "weekly_plan                    0\n",
       "late_deliveries                0\n",
       "avg_prep_vid_time              0\n",
       "avg_meals_per_customer         0\n",
       "avg_mean_rating                0\n",
       "total_photos_viewed            0\n",
       "log_revenue                    0\n",
       "domain_junk                    0\n",
       "domain_personal                0\n",
       "domain_professional            0\n",
       "dtype: int64"
      ]
     },
     "execution_count": 7,
     "metadata": {},
     "output_type": "execute_result"
    }
   ],
   "source": [
    "# checking each feature for missing values\n",
    "Cross_Sell_Success_Data.isnull().sum().round(decimals = 3)"
   ]
  },
  {
   "cell_type": "markdown",
   "id": "8ef4aabd",
   "metadata": {},
   "source": [
    "Preparing for the visualization of the confusion matrix. In this assignment we are tasked to not only understand, clean data, run regression and classifier models but also the understanding of the confusion matrix. For this, we run the following code to just call the visual when and where we require it with the specific data."
   ]
  },
  {
   "cell_type": "code",
   "execution_count": 8,
   "id": "1f06ac18",
   "metadata": {},
   "outputs": [],
   "source": [
    "########################################\n",
    "# visual_cm\n",
    "########################################\n",
    "def visual_cm(true_y, pred_y, labels = None):\n",
    "    \"\"\"\n",
    "Creates a visualization of a confusion matrix.\n",
    "\n",
    "PARAMETERS\n",
    "----------\n",
    "true_y : true values for the response variable\n",
    "pred_y : predicted values for the response variable\n",
    "labels : , default None\n",
    "    \"\"\"\n",
    "    # visualizing the confusion matrix\n",
    "\n",
    "    # setting labels\n",
    "    lbls = labels\n",
    "    \n",
    "\n",
    "    # declaring a confusion matrix object\n",
    "    cm = confusion_matrix(y_true = true_y,\n",
    "                          y_pred = pred_y)\n",
    "\n",
    "\n",
    "    # heatmap\n",
    "    sns.heatmap(cm,\n",
    "                annot       = True,\n",
    "                xticklabels = lbls,\n",
    "                yticklabels = lbls,\n",
    "                cmap        = 'Blues',\n",
    "                fmt         = 'g')\n",
    "\n",
    "\n",
    "    plt.xlabel('Predicted')\n",
    "    plt.ylabel('Actual')\n",
    "    plt.title('Confusion Matrix of the Classifier')\n",
    "    plt.show()"
   ]
  },
  {
   "cell_type": "markdown",
   "id": "79780cf4",
   "metadata": {},
   "source": [
    "Understanding the data we have with its mean and standard deviation, we run the dataset.describe() while rounding the values to 2 decimal spaces. This makes us understand the data we have more in detail to allow us to think in what way we can feature engineer."
   ]
  },
  {
   "cell_type": "code",
   "execution_count": 9,
   "id": "7c79e3e8",
   "metadata": {},
   "outputs": [
    {
     "data": {
      "text/html": [
       "<div>\n",
       "<style scoped>\n",
       "    .dataframe tbody tr th:only-of-type {\n",
       "        vertical-align: middle;\n",
       "    }\n",
       "\n",
       "    .dataframe tbody tr th {\n",
       "        vertical-align: top;\n",
       "    }\n",
       "\n",
       "    .dataframe thead th {\n",
       "        text-align: right;\n",
       "    }\n",
       "</style>\n",
       "<table border=\"1\" class=\"dataframe\">\n",
       "  <thead>\n",
       "    <tr style=\"text-align: right;\">\n",
       "      <th></th>\n",
       "      <th>cross_sell_success</th>\n",
       "      <th>revenue</th>\n",
       "      <th>total_meals_ordered</th>\n",
       "      <th>unique_meals_ordered</th>\n",
       "      <th>contacts_w_customer_service</th>\n",
       "      <th>product_categories_viewed</th>\n",
       "      <th>avg_time_per_site_visit</th>\n",
       "      <th>cancellations_after_noon</th>\n",
       "      <th>pc_logins</th>\n",
       "      <th>mobile_logins</th>\n",
       "      <th>weekly_plan</th>\n",
       "      <th>late_deliveries</th>\n",
       "      <th>avg_prep_vid_time</th>\n",
       "      <th>avg_meals_per_customer</th>\n",
       "      <th>avg_mean_rating</th>\n",
       "      <th>total_photos_viewed</th>\n",
       "      <th>log_revenue</th>\n",
       "      <th>domain_junk</th>\n",
       "      <th>domain_personal</th>\n",
       "      <th>domain_professional</th>\n",
       "    </tr>\n",
       "  </thead>\n",
       "  <tbody>\n",
       "    <tr>\n",
       "      <th>count</th>\n",
       "      <td>1946.00</td>\n",
       "      <td>1946.00</td>\n",
       "      <td>1946.00</td>\n",
       "      <td>1946.00</td>\n",
       "      <td>1946.0</td>\n",
       "      <td>1946.00</td>\n",
       "      <td>1946.00</td>\n",
       "      <td>1946.00</td>\n",
       "      <td>1946.00</td>\n",
       "      <td>1946.00</td>\n",
       "      <td>1946.00</td>\n",
       "      <td>1946.00</td>\n",
       "      <td>1946.00</td>\n",
       "      <td>1946.00</td>\n",
       "      <td>1946.00</td>\n",
       "      <td>1946.00</td>\n",
       "      <td>1946.00</td>\n",
       "      <td>1946.0</td>\n",
       "      <td>1946.00</td>\n",
       "      <td>1946.00</td>\n",
       "    </tr>\n",
       "    <tr>\n",
       "      <th>mean</th>\n",
       "      <td>0.68</td>\n",
       "      <td>2107.29</td>\n",
       "      <td>74.63</td>\n",
       "      <td>6.98</td>\n",
       "      <td>4.9</td>\n",
       "      <td>5.38</td>\n",
       "      <td>150.56</td>\n",
       "      <td>1.57</td>\n",
       "      <td>5.52</td>\n",
       "      <td>1.48</td>\n",
       "      <td>11.33</td>\n",
       "      <td>2.05</td>\n",
       "      <td>99.60</td>\n",
       "      <td>4.44</td>\n",
       "      <td>3.55</td>\n",
       "      <td>113.15</td>\n",
       "      <td>7.53</td>\n",
       "      <td>0.2</td>\n",
       "      <td>0.44</td>\n",
       "      <td>0.36</td>\n",
       "    </tr>\n",
       "    <tr>\n",
       "      <th>std</th>\n",
       "      <td>0.47</td>\n",
       "      <td>1138.29</td>\n",
       "      <td>55.31</td>\n",
       "      <td>2.28</td>\n",
       "      <td>2.5</td>\n",
       "      <td>3.04</td>\n",
       "      <td>49.45</td>\n",
       "      <td>1.61</td>\n",
       "      <td>0.58</td>\n",
       "      <td>0.53</td>\n",
       "      <td>13.57</td>\n",
       "      <td>3.79</td>\n",
       "      <td>62.34</td>\n",
       "      <td>1.55</td>\n",
       "      <td>0.61</td>\n",
       "      <td>177.15</td>\n",
       "      <td>0.49</td>\n",
       "      <td>0.4</td>\n",
       "      <td>0.50</td>\n",
       "      <td>0.48</td>\n",
       "    </tr>\n",
       "    <tr>\n",
       "      <th>min</th>\n",
       "      <td>0.00</td>\n",
       "      <td>131.00</td>\n",
       "      <td>11.00</td>\n",
       "      <td>1.00</td>\n",
       "      <td>1.0</td>\n",
       "      <td>1.00</td>\n",
       "      <td>33.40</td>\n",
       "      <td>0.00</td>\n",
       "      <td>4.00</td>\n",
       "      <td>0.00</td>\n",
       "      <td>0.00</td>\n",
       "      <td>0.00</td>\n",
       "      <td>10.33</td>\n",
       "      <td>1.00</td>\n",
       "      <td>1.32</td>\n",
       "      <td>1.00</td>\n",
       "      <td>4.88</td>\n",
       "      <td>0.0</td>\n",
       "      <td>0.00</td>\n",
       "      <td>0.00</td>\n",
       "    </tr>\n",
       "    <tr>\n",
       "      <th>25%</th>\n",
       "      <td>0.00</td>\n",
       "      <td>1350.00</td>\n",
       "      <td>39.00</td>\n",
       "      <td>5.00</td>\n",
       "      <td>3.0</td>\n",
       "      <td>3.00</td>\n",
       "      <td>114.40</td>\n",
       "      <td>0.00</td>\n",
       "      <td>5.00</td>\n",
       "      <td>1.00</td>\n",
       "      <td>1.00</td>\n",
       "      <td>0.00</td>\n",
       "      <td>72.00</td>\n",
       "      <td>3.00</td>\n",
       "      <td>3.16</td>\n",
       "      <td>10.00</td>\n",
       "      <td>7.21</td>\n",
       "      <td>0.0</td>\n",
       "      <td>0.00</td>\n",
       "      <td>0.00</td>\n",
       "    </tr>\n",
       "    <tr>\n",
       "      <th>50%</th>\n",
       "      <td>1.00</td>\n",
       "      <td>1740.00</td>\n",
       "      <td>60.00</td>\n",
       "      <td>7.00</td>\n",
       "      <td>5.0</td>\n",
       "      <td>5.00</td>\n",
       "      <td>145.60</td>\n",
       "      <td>1.00</td>\n",
       "      <td>6.00</td>\n",
       "      <td>1.00</td>\n",
       "      <td>7.00</td>\n",
       "      <td>0.00</td>\n",
       "      <td>94.16</td>\n",
       "      <td>4.00</td>\n",
       "      <td>3.42</td>\n",
       "      <td>17.00</td>\n",
       "      <td>7.46</td>\n",
       "      <td>0.0</td>\n",
       "      <td>0.00</td>\n",
       "      <td>0.00</td>\n",
       "    </tr>\n",
       "    <tr>\n",
       "      <th>75%</th>\n",
       "      <td>1.00</td>\n",
       "      <td>2670.00</td>\n",
       "      <td>95.00</td>\n",
       "      <td>8.00</td>\n",
       "      <td>7.0</td>\n",
       "      <td>8.00</td>\n",
       "      <td>173.78</td>\n",
       "      <td>2.00</td>\n",
       "      <td>6.00</td>\n",
       "      <td>2.00</td>\n",
       "      <td>13.00</td>\n",
       "      <td>3.00</td>\n",
       "      <td>117.29</td>\n",
       "      <td>5.00</td>\n",
       "      <td>3.95</td>\n",
       "      <td>174.00</td>\n",
       "      <td>7.89</td>\n",
       "      <td>0.0</td>\n",
       "      <td>1.00</td>\n",
       "      <td>1.00</td>\n",
       "    </tr>\n",
       "    <tr>\n",
       "      <th>max</th>\n",
       "      <td>1.00</td>\n",
       "      <td>8793.75</td>\n",
       "      <td>493.00</td>\n",
       "      <td>18.00</td>\n",
       "      <td>19.0</td>\n",
       "      <td>10.00</td>\n",
       "      <td>564.20</td>\n",
       "      <td>13.00</td>\n",
       "      <td>7.00</td>\n",
       "      <td>3.00</td>\n",
       "      <td>52.00</td>\n",
       "      <td>18.00</td>\n",
       "      <td>1645.60</td>\n",
       "      <td>11.00</td>\n",
       "      <td>5.00</td>\n",
       "      <td>1600.00</td>\n",
       "      <td>9.08</td>\n",
       "      <td>1.0</td>\n",
       "      <td>1.00</td>\n",
       "      <td>1.00</td>\n",
       "    </tr>\n",
       "  </tbody>\n",
       "</table>\n",
       "</div>"
      ],
      "text/plain": [
       "       cross_sell_success  revenue  total_meals_ordered  unique_meals_ordered  \\\n",
       "count             1946.00  1946.00              1946.00               1946.00   \n",
       "mean                 0.68  2107.29                74.63                  6.98   \n",
       "std                  0.47  1138.29                55.31                  2.28   \n",
       "min                  0.00   131.00                11.00                  1.00   \n",
       "25%                  0.00  1350.00                39.00                  5.00   \n",
       "50%                  1.00  1740.00                60.00                  7.00   \n",
       "75%                  1.00  2670.00                95.00                  8.00   \n",
       "max                  1.00  8793.75               493.00                 18.00   \n",
       "\n",
       "       contacts_w_customer_service  product_categories_viewed  \\\n",
       "count                       1946.0                    1946.00   \n",
       "mean                           4.9                       5.38   \n",
       "std                            2.5                       3.04   \n",
       "min                            1.0                       1.00   \n",
       "25%                            3.0                       3.00   \n",
       "50%                            5.0                       5.00   \n",
       "75%                            7.0                       8.00   \n",
       "max                           19.0                      10.00   \n",
       "\n",
       "       avg_time_per_site_visit  cancellations_after_noon  pc_logins  \\\n",
       "count                  1946.00                   1946.00    1946.00   \n",
       "mean                    150.56                      1.57       5.52   \n",
       "std                      49.45                      1.61       0.58   \n",
       "min                      33.40                      0.00       4.00   \n",
       "25%                     114.40                      0.00       5.00   \n",
       "50%                     145.60                      1.00       6.00   \n",
       "75%                     173.78                      2.00       6.00   \n",
       "max                     564.20                     13.00       7.00   \n",
       "\n",
       "       mobile_logins  weekly_plan  late_deliveries  avg_prep_vid_time  \\\n",
       "count        1946.00      1946.00          1946.00            1946.00   \n",
       "mean            1.48        11.33             2.05              99.60   \n",
       "std             0.53        13.57             3.79              62.34   \n",
       "min             0.00         0.00             0.00              10.33   \n",
       "25%             1.00         1.00             0.00              72.00   \n",
       "50%             1.00         7.00             0.00              94.16   \n",
       "75%             2.00        13.00             3.00             117.29   \n",
       "max             3.00        52.00            18.00            1645.60   \n",
       "\n",
       "       avg_meals_per_customer  avg_mean_rating  total_photos_viewed  \\\n",
       "count                 1946.00          1946.00              1946.00   \n",
       "mean                     4.44             3.55               113.15   \n",
       "std                      1.55             0.61               177.15   \n",
       "min                      1.00             1.32                 1.00   \n",
       "25%                      3.00             3.16                10.00   \n",
       "50%                      4.00             3.42                17.00   \n",
       "75%                      5.00             3.95               174.00   \n",
       "max                     11.00             5.00              1600.00   \n",
       "\n",
       "       log_revenue  domain_junk  domain_personal  domain_professional  \n",
       "count      1946.00       1946.0          1946.00              1946.00  \n",
       "mean          7.53          0.2             0.44                 0.36  \n",
       "std           0.49          0.4             0.50                 0.48  \n",
       "min           4.88          0.0             0.00                 0.00  \n",
       "25%           7.21          0.0             0.00                 0.00  \n",
       "50%           7.46          0.0             0.00                 0.00  \n",
       "75%           7.89          0.0             1.00                 1.00  \n",
       "max           9.08          1.0             1.00                 1.00  "
      ]
     },
     "execution_count": 9,
     "metadata": {},
     "output_type": "execute_result"
    }
   ],
   "source": [
    "# running the describe()\n",
    "\n",
    "Cross_Sell_Success_Data.describe().round(decimals = 2)"
   ]
  },
  {
   "cell_type": "markdown",
   "id": "cb6bcc36",
   "metadata": {},
   "source": [
    "We run the correlation matrix with the pearson method and rounding to 2 decimals places. This is to understand the correlation of the data and the y-variable which in this case is the cross_sell_success column values, which also is based on the .info() and .describe() observation a boolean data column."
   ]
  },
  {
   "cell_type": "code",
   "execution_count": 10,
   "id": "57c018b0",
   "metadata": {},
   "outputs": [
    {
     "data": {
      "text/plain": [
       "cross_sell_success             1.00\n",
       "domain_professional            0.19\n",
       "cancellations_after_noon       0.14\n",
       "mobile_logins                  0.06\n",
       "domain_personal                0.04\n",
       "pc_logins                      0.04\n",
       "unique_meals_ordered           0.04\n",
       "avg_time_per_site_visit        0.03\n",
       "late_deliveries                0.02\n",
       "avg_meals_per_customer         0.02\n",
       "log_revenue                    0.01\n",
       "total_photos_viewed            0.01\n",
       "total_meals_ordered            0.01\n",
       "avg_prep_vid_time              0.01\n",
       "revenue                        0.00\n",
       "product_categories_viewed      0.00\n",
       "contacts_w_customer_service   -0.00\n",
       "weekly_plan                   -0.01\n",
       "avg_mean_rating               -0.04\n",
       "domain_junk                   -0.28\n",
       "Name: cross_sell_success, dtype: float64"
      ]
     },
     "execution_count": 10,
     "metadata": {},
     "output_type": "execute_result"
    }
   ],
   "source": [
    "# conducting the perason correlation\n",
    "\n",
    "df_corr = Cross_Sell_Success_Data.corr(method = 'pearson').round(decimals = 2)\n",
    "\n",
    "# sorting the values with cross_sell_success\n",
    "\n",
    "df_corr['cross_sell_success'].sort_values(ascending = False)"
   ]
  },
  {
   "cell_type": "markdown",
   "id": "e7ec0a73",
   "metadata": {},
   "source": [
    "We try to further understand the various columns and the total content in them by normalizing and not normalizing them. This allows us to understand if we can use them to feature engineer for future reference.\n",
    "When working with classification problems, preserving the balance of the response variable is critically important. In terms of the Cross_Sell_Success_Data dataset, we need to preserve the proportion of cross_sell_success affecting in both the training and testing sets. This can be accomplished by using the stratify argument of train_test_split( )."
   ]
  },
  {
   "cell_type": "code",
   "execution_count": 11,
   "id": "f487333f",
   "metadata": {},
   "outputs": [
    {
     "data": {
      "text/plain": [
       "1    0.68\n",
       "0    0.32\n",
       "Name: cross_sell_success, dtype: float64"
      ]
     },
     "execution_count": 11,
     "metadata": {},
     "output_type": "execute_result"
    }
   ],
   "source": [
    "# value count for cross_sell_success\n",
    "\n",
    "Cross_Sell_Success_Data.loc[ : ,'cross_sell_success'].value_counts(normalize = True).round(decimals = 2)"
   ]
  },
  {
   "cell_type": "code",
   "execution_count": 12,
   "id": "ea52f6ab",
   "metadata": {},
   "outputs": [
    {
     "data": {
      "text/plain": [
       "0    1557\n",
       "1     389\n",
       "Name: domain_junk, dtype: int64"
      ]
     },
     "execution_count": 12,
     "metadata": {},
     "output_type": "execute_result"
    }
   ],
   "source": [
    "# value count for domain_junk\n",
    "\n",
    "Cross_Sell_Success_Data.loc[ : ,'domain_junk'].value_counts(normalize = False).round(decimals = 2)"
   ]
  },
  {
   "cell_type": "code",
   "execution_count": 13,
   "id": "56e9cbe5",
   "metadata": {},
   "outputs": [
    {
     "data": {
      "text/plain": [
       "0    1085\n",
       "1     861\n",
       "Name: domain_personal, dtype: int64"
      ]
     },
     "execution_count": 13,
     "metadata": {},
     "output_type": "execute_result"
    }
   ],
   "source": [
    "# value count for domain_personal\n",
    "\n",
    "Cross_Sell_Success_Data.loc[ : ,'domain_personal'].value_counts(normalize = False).round(decimals = 2)"
   ]
  },
  {
   "cell_type": "code",
   "execution_count": 14,
   "id": "4f2ccd1d",
   "metadata": {},
   "outputs": [
    {
     "data": {
      "text/plain": [
       "0    0.64\n",
       "1    0.36\n",
       "Name: domain_professional, dtype: float64"
      ]
     },
     "execution_count": 14,
     "metadata": {},
     "output_type": "execute_result"
    }
   ],
   "source": [
    "# value count for domain_professional\n",
    "\n",
    "Cross_Sell_Success_Data.loc[ : ,'domain_professional'].value_counts(normalize = True, ascending = False).round(decimals = 2)"
   ]
  },
  {
   "cell_type": "code",
   "execution_count": 15,
   "id": "cd610dd2",
   "metadata": {},
   "outputs": [
    {
     "data": {
      "text/plain": [
       "Index(['cross_sell_success', 'email', 'revenue', 'total_meals_ordered',\n",
       "       'unique_meals_ordered', 'contacts_w_customer_service',\n",
       "       'product_categories_viewed', 'avg_time_per_site_visit',\n",
       "       'cancellations_after_noon', 'pc_logins', 'mobile_logins', 'weekly_plan',\n",
       "       'late_deliveries', 'avg_prep_vid_time', 'avg_meals_per_customer',\n",
       "       'avg_mean_rating', 'total_photos_viewed', 'log_revenue', 'domain_junk',\n",
       "       'domain_personal', 'domain_professional'],\n",
       "      dtype='object')"
      ]
     },
     "execution_count": 15,
     "metadata": {},
     "output_type": "execute_result"
    }
   ],
   "source": [
    "# getting the names of the columns for use\n",
    "Cross_Sell_Success_Data.columns"
   ]
  },
  {
   "cell_type": "markdown",
   "id": "1c30c2c3",
   "metadata": {},
   "source": [
    "Based on the above data it was my assumption that we could create a feature with avg_mean_rating. Since the general trend of the customers is to leave reviews and ratings, we would like to target all customers who give ratings below 5. This allows us to know the customers which can be potentially affected by cross_sell_success.\n",
    "I feature engineer low_rating with this in mind."
   ]
  },
  {
   "cell_type": "code",
   "execution_count": 16,
   "id": "3e3ba8d5",
   "metadata": {},
   "outputs": [],
   "source": [
    "# creating a new feature of low_rating\n",
    "\n",
    "Cross_Sell_Success_Data['low_rating'] = 0\n",
    "\n",
    "# define the threshold for a high rating\n",
    "high_rating_threshold = 5\n",
    "\n",
    "# create a new feature indicating whether the customer has a low average rating\n",
    "for index, val in Cross_Sell_Success_Data.iterrows():\n",
    "    \n",
    "    if Cross_Sell_Success_Data.loc[index, 'avg_mean_rating'] < high_rating_threshold:\n",
    "        Cross_Sell_Success_Data.loc[index, 'low_rating'] = 1\n"
   ]
  },
  {
   "cell_type": "markdown",
   "id": "803cf302",
   "metadata": {},
   "source": [
    "Based on the information from the correlation matrix, I try to feature engineer with data from the columns late_deliveries and contacts_w_customer_service. For this, I consider that customers which are receiving the orders late less than 3 times are potential customers with not high frequency of late deliveries. Similarly I consider customers with low contact_w_customer_service that is below 5 to be a potential to cross_sell_success. This I combine to get cross_sell_potential."
   ]
  },
  {
   "cell_type": "code",
   "execution_count": 17,
   "id": "42da34b8",
   "metadata": {},
   "outputs": [],
   "source": [
    "# creating the placeholder data columns\n",
    "\n",
    "Cross_Sell_Success_Data['freq_late_delivery'] = 0\n",
    "Cross_Sell_Success_Data['complain_call'] = 0\n",
    "Cross_Sell_Success_Data['cross_sell_potential'] = 0\n",
    "\n",
    "# indexing and value being addressed rowwise\n",
    "\n",
    "for index, val in Cross_Sell_Success_Data.iterrows():\n",
    "    if Cross_Sell_Success_Data.loc[index, 'late_deliveries'] < 3: # less than 3\n",
    "        Cross_Sell_Success_Data.loc[index, 'freq_late_delivery'] = 1\n",
    "    \n",
    "    if Cross_Sell_Success_Data.loc[index, 'contacts_w_customer_service'] < 5: # less than 5\n",
    "        Cross_Sell_Success_Data.loc[index, 'complain_call'] = 1\n",
    "    \n",
    "    # if both above conditions met, is cross_sell_potential \n",
    "    \n",
    "    if Cross_Sell_Success_Data.loc[index, 'freq_late_delivery'] == 1 \\\n",
    "    and Cross_Sell_Success_Data.loc[index, 'complain_call'] == 1 :\n",
    "        Cross_Sell_Success_Data.loc[index, 'cross_sell_potential'] = 1\n",
    "\n",
    "\n"
   ]
  },
  {
   "cell_type": "markdown",
   "id": "09b211f8",
   "metadata": {},
   "source": [
    "Created the log values of some of the continuous data available, to check if it may be useful in the regression and classifier analysis."
   ]
  },
  {
   "cell_type": "code",
   "execution_count": 18,
   "id": "2fa9964c",
   "metadata": {},
   "outputs": [],
   "source": [
    "# log transforming certin parameters\n",
    "\n",
    "Cross_Sell_Success_Data['log_avg_prep_vid_time']=np.log(Cross_Sell_Success_Data['avg_prep_vid_time'])\n",
    "\n",
    "Cross_Sell_Success_Data['log_avg_mean_rating']=np.log(Cross_Sell_Success_Data['avg_mean_rating'])\n"
   ]
  },
  {
   "cell_type": "markdown",
   "id": "d5e07726",
   "metadata": {},
   "source": [
    "A few trial engineered features which did not have required impact or correlation with the cross_sell_success hence have been commented out."
   ]
  },
  {
   "cell_type": "code",
   "execution_count": 19,
   "id": "2405f2fc",
   "metadata": {},
   "outputs": [],
   "source": [
    "# # defining a late order and canceled order as a potential to get a customer\n",
    "\n",
    "# Cross_Sell_Success_Data['cancel_late'] = Cross_Sell_Success_Data['cancellations_after_noon'] + Cross_Sell_Success_Data['late_deliveries']"
   ]
  },
  {
   "cell_type": "code",
   "execution_count": 20,
   "id": "42468dbe",
   "metadata": {},
   "outputs": [],
   "source": [
    "# # define the threshold for a high rating\n",
    "# high_meal_plan = 2\n",
    "\n",
    "# # create a new feature indicating whether the customer has a low weekly meal plans\n",
    "# Cross_Sell_Success_Data['low_meal_plan'] = (Cross_Sell_Success_Data['weekly_plan'] < high_meal_plan).astype(int)\n"
   ]
  },
  {
   "cell_type": "markdown",
   "id": "6482cfc9",
   "metadata": {},
   "source": [
    "Tried to feature engineer another parameter with product_categories_viewed and total_photos_viewed being below their mean values into a new data column of new_inactive_customer. This was to understand if the customer was inactive and or is a new customer which could be a potential cross_sell_success."
   ]
  },
  {
   "cell_type": "code",
   "execution_count": 21,
   "id": "23cc0e83",
   "metadata": {},
   "outputs": [],
   "source": [
    "# defining inactive or new customer\n",
    "Cross_Sell_Success_Data['new_inactive_customer'] = 0\n",
    "Cross_Sell_Success_Data['sub_para_1'] = 0\n",
    "Cross_Sell_Success_Data['sub_para_2'] = 0\n",
    "\n",
    "# creating a new feature indicating if a customer is inactive or new\n",
    "for index, val in Cross_Sell_Success_Data.iterrows():\n",
    "    if Cross_Sell_Success_Data.loc[index, 'product_categories_viewed'] < 6 : # less than 6 (6-close to mean)\n",
    "           Cross_Sell_Success_Data.loc[index, 'sub_para_1'] = 1\n",
    "    if Cross_Sell_Success_Data.loc[index, 'total_photos_viewed'] < 120 : # less than 120 (120-close to mean)\n",
    "           Cross_Sell_Success_Data.loc[index, 'sub_para_2'] = 1\n",
    "    \n",
    "    # if both above conditions met, is new_inactive_customer \n",
    "    \n",
    "    if Cross_Sell_Success_Data.loc[index, 'sub_para_1'] == 1\\\n",
    "       and Cross_Sell_Success_Data.loc[index, 'sub_para_2'] == 1 :\n",
    "           Cross_Sell_Success_Data.loc[index, 'new_inactive_customer'] = 1"
   ]
  },
  {
   "cell_type": "markdown",
   "id": "1b13bf09",
   "metadata": {},
   "source": [
    "Gathering all the possible x-variable data for use against y-variable data.\n",
    "Taking into account the feature engineered features."
   ]
  },
  {
   "cell_type": "code",
   "execution_count": 22,
   "id": "e0ce2b3e",
   "metadata": {},
   "outputs": [],
   "source": [
    "# declaring explanatory variables\n",
    "x_data = ['email', 'revenue', 'total_meals_ordered', \n",
    "          'unique_meals_ordered', 'contacts_w_customer_service', \n",
    "          'product_categories_viewed', 'avg_time_per_site_visit', \n",
    "          'cancellations_after_noon', 'pc_logins', 'mobile_logins', \n",
    "          'weekly_plan', 'late_deliveries', 'avg_prep_vid_time', \n",
    "          'avg_meals_per_customer', 'avg_mean_rating', \n",
    "          'total_photos_viewed', 'log_revenue', 'domain_junk', \n",
    "          'domain_personal', 'domain_professional', 'low_rating', \n",
    "          'cross_sell_potential', 'new_inactive_customer']\n",
    "\n",
    "\n",
    "# logistic_x = []\n",
    "\n",
    "# declaring response variable\n",
    "Cross_Sell_Success_data = Cross_Sell_Success_Data[x_data]\n",
    "\n",
    "Cross_Sell_Success_target = Cross_Sell_Success_Data.loc[ : , 'cross_sell_success']"
   ]
  },
  {
   "cell_type": "markdown",
   "id": "3659d294",
   "metadata": {},
   "source": [
    "Creating the basic body for the train_test_split model analysis to be used with the logistic regression. The random_state has been set at 219 and the test_size at 0.1 as advised for the assignment."
   ]
  },
  {
   "cell_type": "code",
   "execution_count": 23,
   "id": "82a81a27",
   "metadata": {},
   "outputs": [],
   "source": [
    "# train-test split with stratification\n",
    "x_train, x_test, y_train, y_test = train_test_split(\n",
    "            Cross_Sell_Success_data,\n",
    "            Cross_Sell_Success_target,\n",
    "            test_size    = 0.1, #test size at 0.1\n",
    "            random_state = 219, # random state at 219\n",
    "            stratify     = Cross_Sell_Success_target) # preserving balance\n",
    "\n",
    "\n",
    "# merging training data for statsmodels\n",
    "Cross_Sell_Success_train = pd.concat([x_train, y_train], axis = 1)"
   ]
  },
  {
   "cell_type": "markdown",
   "id": "7d93d329",
   "metadata": {},
   "source": [
    "Formatting the columns in the Cross_Sell_Success_data for the purpose of ease of running the regression analysis model."
   ]
  },
  {
   "cell_type": "code",
   "execution_count": 24,
   "id": "5ac2d63f",
   "metadata": {},
   "outputs": [
    {
     "name": "stdout",
     "output_type": "stream",
     "text": [
      " email + \n",
      " revenue + \n",
      " total_meals_ordered + \n",
      " unique_meals_ordered + \n",
      " contacts_w_customer_service + \n",
      " product_categories_viewed + \n",
      " avg_time_per_site_visit + \n",
      " cancellations_after_noon + \n",
      " pc_logins + \n",
      " mobile_logins + \n",
      " weekly_plan + \n",
      " late_deliveries + \n",
      " avg_prep_vid_time + \n",
      " avg_meals_per_customer + \n",
      " avg_mean_rating + \n",
      " total_photos_viewed + \n",
      " log_revenue + \n",
      " domain_junk + \n",
      " domain_personal + \n",
      " domain_professional + \n",
      " low_rating + \n",
      " cross_sell_potential + \n",
      " new_inactive_customer + \n"
     ]
    }
   ],
   "source": [
    "for val in Cross_Sell_Success_data:\n",
    "    print(f\" {val} + \")"
   ]
  },
  {
   "cell_type": "markdown",
   "id": "187061b2",
   "metadata": {},
   "source": [
    "Using the logistic regression model from the sfm library with the use of the formatted column names. Started removing the columns names from the formula when the p-value was more than 0.05 as per the standard procedure one at a time because removing every single columns and running it after every little change made changes in the p-values of the other columns, in this case parameters affecting the regression analysis."
   ]
  },
  {
   "cell_type": "code",
   "execution_count": 25,
   "id": "e3a7d176",
   "metadata": {},
   "outputs": [
    {
     "name": "stdout",
     "output_type": "stream",
     "text": [
      "Optimization terminated successfully.\n",
      "         Current function value: 0.565862\n",
      "         Iterations 6\n"
     ]
    },
    {
     "data": {
      "text/html": [
       "<table class=\"simpletable\">\n",
       "<tr>\n",
       "        <td>Model:</td>               <td>Logit</td>       <td>Pseudo R-squared:</td>    <td>0.098</td>  \n",
       "</tr>\n",
       "<tr>\n",
       "  <td>Dependent Variable:</td> <td>cross_sell_success</td>       <td>AIC:</td>         <td>2001.6487</td>\n",
       "</tr>\n",
       "<tr>\n",
       "         <td>Date:</td>         <td>2023-02-21 17:31</td>        <td>BIC:</td>         <td>2056.3282</td>\n",
       "</tr>\n",
       "<tr>\n",
       "   <td>No. Observations:</td>         <td>1751</td>         <td>Log-Likelihood:</td>    <td>-990.82</td> \n",
       "</tr>\n",
       "<tr>\n",
       "       <td>Df Model:</td>               <td>9</td>             <td>LL-Null:</td>        <td>-1098.9</td> \n",
       "</tr>\n",
       "<tr>\n",
       "     <td>Df Residuals:</td>           <td>1741</td>          <td>LLR p-value:</td>    <td>1.3343e-41</td>\n",
       "</tr>\n",
       "<tr>\n",
       "      <td>Converged:</td>            <td>1.0000</td>            <td>Scale:</td>         <td>1.0000</td>  \n",
       "</tr>\n",
       "<tr>\n",
       "    <td>No. Iterations:</td>         <td>6.0000</td>               <td></td>               <td></td>     \n",
       "</tr>\n",
       "</table>\n",
       "<table class=\"simpletable\">\n",
       "<tr>\n",
       "              <td></td>              <th>Coef.</th>  <th>Std.Err.</th>    <th>z</th>     <th>P>|z|</th> <th>[0.025</th>  <th>0.975]</th> \n",
       "</tr>\n",
       "<tr>\n",
       "  <th>Intercept</th>                <td>-4.4191</td>  <td>0.9390</td>  <td>-4.7062</td> <td>0.0000</td> <td>-6.2595</td> <td>-2.5787</td>\n",
       "</tr>\n",
       "<tr>\n",
       "  <th>revenue</th>                  <td>-0.0001</td>  <td>0.0001</td>  <td>-2.0521</td> <td>0.0402</td> <td>-0.0003</td> <td>-0.0000</td>\n",
       "</tr>\n",
       "<tr>\n",
       "  <th>unique_meals_ordered</th>     <td>0.0509</td>   <td>0.0244</td>  <td>2.0824</td>  <td>0.0373</td> <td>0.0030</td>  <td>0.0988</td> \n",
       "</tr>\n",
       "<tr>\n",
       "  <th>avg_time_per_site_visit</th>  <td>0.0038</td>   <td>0.0015</td>  <td>2.4515</td>  <td>0.0142</td> <td>0.0008</td>  <td>0.0068</td> \n",
       "</tr>\n",
       "<tr>\n",
       "  <th>cancellations_after_noon</th> <td>0.2203</td>   <td>0.0381</td>  <td>5.7831</td>  <td>0.0000</td> <td>0.1456</td>  <td>0.2949</td> \n",
       "</tr>\n",
       "<tr>\n",
       "  <th>pc_logins</th>                <td>0.1953</td>   <td>0.0939</td>  <td>2.0797</td>  <td>0.0376</td> <td>0.0112</td>  <td>0.3794</td> \n",
       "</tr>\n",
       "<tr>\n",
       "  <th>mobile_logins</th>            <td>0.2704</td>   <td>0.1049</td>  <td>2.5784</td>  <td>0.0099</td> <td>0.0648</td>  <td>0.4759</td> \n",
       "</tr>\n",
       "<tr>\n",
       "  <th>domain_personal</th>          <td>1.2499</td>   <td>0.1384</td>  <td>9.0277</td>  <td>0.0000</td> <td>0.9785</td>  <td>1.5212</td> \n",
       "</tr>\n",
       "<tr>\n",
       "  <th>domain_professional</th>      <td>1.7721</td>   <td>0.1510</td>  <td>11.7395</td> <td>0.0000</td> <td>1.4763</td>  <td>2.0680</td> \n",
       "</tr>\n",
       "<tr>\n",
       "  <th>low_rating</th>               <td>1.6165</td>   <td>0.7057</td>  <td>2.2908</td>  <td>0.0220</td> <td>0.2334</td>  <td>2.9996</td> \n",
       "</tr>\n",
       "</table>"
      ],
      "text/plain": [
       "<class 'statsmodels.iolib.summary2.Summary'>\n",
       "\"\"\"\n",
       "                             Results: Logit\n",
       "========================================================================\n",
       "Model:                 Logit               Pseudo R-squared:  0.098     \n",
       "Dependent Variable:    cross_sell_success  AIC:               2001.6487 \n",
       "Date:                  2023-02-21 17:31    BIC:               2056.3282 \n",
       "No. Observations:      1751                Log-Likelihood:    -990.82   \n",
       "Df Model:              9                   LL-Null:           -1098.9   \n",
       "Df Residuals:          1741                LLR p-value:       1.3343e-41\n",
       "Converged:             1.0000              Scale:             1.0000    \n",
       "No. Iterations:        6.0000                                           \n",
       "------------------------------------------------------------------------\n",
       "                          Coef.  Std.Err.    z    P>|z|   [0.025  0.975]\n",
       "------------------------------------------------------------------------\n",
       "Intercept                -4.4191   0.9390 -4.7062 0.0000 -6.2595 -2.5787\n",
       "revenue                  -0.0001   0.0001 -2.0521 0.0402 -0.0003 -0.0000\n",
       "unique_meals_ordered      0.0509   0.0244  2.0824 0.0373  0.0030  0.0988\n",
       "avg_time_per_site_visit   0.0038   0.0015  2.4515 0.0142  0.0008  0.0068\n",
       "cancellations_after_noon  0.2203   0.0381  5.7831 0.0000  0.1456  0.2949\n",
       "pc_logins                 0.1953   0.0939  2.0797 0.0376  0.0112  0.3794\n",
       "mobile_logins             0.2704   0.1049  2.5784 0.0099  0.0648  0.4759\n",
       "domain_personal           1.2499   0.1384  9.0277 0.0000  0.9785  1.5212\n",
       "domain_professional       1.7721   0.1510 11.7395 0.0000  1.4763  2.0680\n",
       "low_rating                1.6165   0.7057  2.2908 0.0220  0.2334  2.9996\n",
       "========================================================================\n",
       "\n",
       "\"\"\""
      ]
     },
     "execution_count": 25,
     "metadata": {},
     "output_type": "execute_result"
    }
   ],
   "source": [
    "# instantiating a logistic regression model object\n",
    "logistic_full = smf.logit(formula = \"\"\" cross_sell_success ~ \n",
    "                                                     revenue + \n",
    "                                                     unique_meals_ordered +  \n",
    "                                                     avg_time_per_site_visit + \n",
    "                                                     cancellations_after_noon + \n",
    "                                                     pc_logins + \n",
    "                                                     mobile_logins +   \n",
    "                                                     domain_personal + \n",
    "                                                     domain_professional + \n",
    "                                                     low_rating \"\"\",\n",
    "                                        data    = Cross_Sell_Success_train)\n",
    "\n",
    "\n",
    "# fitting the model object\n",
    "results_full = logistic_full.fit()\n",
    "\n",
    "\n",
    "# checking the results SUMMARY\n",
    "results_full.summary2()"
   ]
  },
  {
   "cell_type": "markdown",
   "id": "e011efb0",
   "metadata": {},
   "source": [
    "THe optimized logistic regression model with the p-values being significant were the following revenue, unique_meals_ordered, avg_time_per_site_visit, cancellations_after_noon, pc_logins, mobile_logins, domain_personal, domain_professional, low_rating.\n",
    "With the help of this analysis and the understanding that the parameters or features are showing significant correlation to the y-variable which is the cross_sell_success, we move on to the next phase of the analysis."
   ]
  },
  {
   "cell_type": "code",
   "execution_count": 26,
   "id": "4870dd1e",
   "metadata": {},
   "outputs": [
    {
     "name": "stdout",
     "output_type": "stream",
     "text": [
      "\n",
      "\n",
      "Response Variable Proportions (Training Set)\n",
      "--------------------------------------------\n",
      "1    0.68\n",
      "0    0.32\n",
      "Name: cross_sell_success, dtype: float64\n",
      "\n",
      "\n",
      "\n",
      "Response Variable Proportions (Testing Set)\n",
      "--------------------------------------------\n",
      "1    0.68\n",
      "0    0.32\n",
      "Name: cross_sell_success, dtype: float64\n",
      "\n"
     ]
    }
   ],
   "source": [
    "print(f\"\"\"\n",
    "\n",
    "Response Variable Proportions (Training Set)\n",
    "--------------------------------------------\n",
    "{y_train.value_counts(normalize = True).round(decimals = 2)}\n",
    "\n",
    "\n",
    "\n",
    "Response Variable Proportions (Testing Set)\n",
    "--------------------------------------------\n",
    "{y_test.value_counts(normalize = True).round(decimals = 2)}\n",
    "\"\"\")\n",
    "\n"
   ]
  },
  {
   "cell_type": "markdown",
   "id": "d4d511ae",
   "metadata": {},
   "source": [
    "We created the list of the ways we can use the columns as features or parameters from all to other various permutation and combinations to get the best result in the regression and classifier tests of training scores, testing scores and the AUC score. "
   ]
  },
  {
   "cell_type": "code",
   "execution_count": 27,
   "id": "2a66fc0d",
   "metadata": {},
   "outputs": [],
   "source": [
    "# explanatory sets from last session\n",
    "\n",
    "# creating a dictionary to store candidate models\n",
    "\n",
    "category_dict = {\n",
    "\n",
    " # full model\n",
    " 'logit_full'   : ['revenue', 'total_meals_ordered', \n",
    "                   'unique_meals_ordered', 'contacts_w_customer_service', \n",
    "                   'product_categories_viewed', 'avg_time_per_site_visit', \n",
    "                   'cancellations_after_noon', 'pc_logins', 'mobile_logins', \n",
    "                   'weekly_plan', 'late_deliveries', 'log_avg_prep_vid_time', \n",
    "                   'avg_meals_per_customer', 'log_avg_mean_rating', \n",
    "                   'total_photos_viewed', 'log_revenue', \n",
    "                   'domain_personal', 'cross_sell_potential', 'low_rating',\n",
    "                   'new_inactive_customer'],\n",
    " \n",
    "\n",
    " # significant variables only (set 1)\n",
    " 'logit_sig'    : ['cancellations_after_noon', 'pc_logins', \n",
    "                   'mobile_logins', 'domain_personal', \n",
    "                   'cross_sell_potential', 'domain_junk', 'low_rating'],\n",
    "    \n",
    "    \n",
    " # significant variables only (set 2)\n",
    " 'logit_sig_2'  : ['revenue', 'unique_meals_ordered', \n",
    "                   'avg_time_per_site_visit', 'cancellations_after_noon', \n",
    "                   'pc_logins', 'mobile_logins', 'domain_personal', \n",
    "                   'domain_professional', 'low_rating']\n",
    "\n",
    "}"
   ]
  },
  {
   "cell_type": "markdown",
   "id": "fee63472",
   "metadata": {},
   "source": [
    "I prefer using the declaration of variables as a list over the use of the dictionary. Hence I have separated the log_sig_2 list data into the x_data below for the classifier tests."
   ]
  },
  {
   "cell_type": "code",
   "execution_count": 28,
   "id": "cd5ee6ef",
   "metadata": {},
   "outputs": [],
   "source": [
    "# declaring explanatory variables\n",
    "x_data = ['revenue', 'unique_meals_ordered', \n",
    "          'avg_time_per_site_visit', 'cancellations_after_noon', \n",
    "          'pc_logins', 'mobile_logins', 'domain_personal', \n",
    "          'domain_professional', 'low_rating']\n",
    "\n",
    "# declaring response variable\n",
    "y_data = Cross_Sell_Success_Data['cross_sell_success']\n",
    "\n",
    "# selecting the features\n",
    "X = Cross_Sell_Success_Data[x_data]"
   ]
  },
  {
   "cell_type": "markdown",
   "id": "ed950da7",
   "metadata": {},
   "source": [
    "We first use the Random Forest Classifier as it had previously worked well for me in the previous assignment as a Random Forest Regression. Hyperparameter tuning in the model itself and using the optimized parameters for the best output.\n",
    "We obtain the train score, test score, AUC score and print it all at the end for understanding the output."
   ]
  },
  {
   "cell_type": "code",
   "execution_count": 29,
   "id": "c2fd0cb2",
   "metadata": {},
   "outputs": [
    {
     "name": "stdout",
     "output_type": "stream",
     "text": [
      "Model                       : Random Forest Classifier\n",
      "Tuned Parameters            : {'bootstrap': True, 'max_depth': 10, 'max_features': 'auto', 'min_samples_leaf': 20, 'min_samples_split': 10, 'n_estimators': 100}\n",
      "Full Tree Training ACCURACY : 0.7379\n",
      "Full Tree Testing ACCURACY  : 0.7026\n",
      "Full Tree AUC Score         : 0.5923\n"
     ]
    }
   ],
   "source": [
    "model = 'Random Forest Classifier'\n",
    "\n",
    "# creating a hyperparameter grid\n",
    "param_grid = {'n_estimators'      : [100]            ,\n",
    "              'max_features'      : ['auto']         ,\n",
    "              'max_depth'         : [10]             ,\n",
    "              'min_samples_split' : [10]             ,\n",
    "              'min_samples_leaf'  : [20]             ,\n",
    "              'bootstrap'         : [True]           }\n",
    "\n",
    "# creating a random forest classifier\n",
    "rfc = RandomForestClassifier(random_state = 219       )\n",
    "\n",
    "# creating a grid search object\n",
    "grid_search = GridSearchCV(rfc                        , \n",
    "                           param_grid     = param_grid, \n",
    "                           cv             = 8         )\n",
    "\n",
    "# fitting the grid search object to the data\n",
    "grid_search.fit(X, y_data)\n",
    "\n",
    "rfull_tree_fit = grid_search.best_estimator_\n",
    "\n",
    "# splitting the data into testing and training sets\n",
    "x_train, x_test, y_train, y_test = train_test_split(X,\n",
    "                                                    y_data,\n",
    "                                                    test_size    = 0.1,\n",
    "                                                    random_state = 219)\n",
    "\n",
    "# fitting the full tree model\n",
    "rfull_tree_fit = rfull_tree_fit.fit(x_train, y_train)\n",
    "\n",
    "# creating a set of predictions for both training and testing data\n",
    "rfull_tree_train_pred = rfull_tree_fit.predict(x_train)\n",
    "rfull_tree_test_pred  = rfull_tree_fit.predict(x_test)\n",
    "\n",
    "# printing the best parameters and best score\n",
    "print('Model                       :', model)\n",
    "print(\"Tuned Parameters            :\", grid_search.best_params_)\n",
    "print('Full Tree Training ACCURACY :', rfull_tree_fit.score(x_train, y_train).round(4))\n",
    "print('Full Tree Testing ACCURACY  :', rfull_tree_fit.score(x_test, y_test).round(4))\n",
    "print('Full Tree AUC Score         :', roc_auc_score(y_true  = y_test, \n",
    "                                                    y_score = rfull_tree_test_pred).round(4))\n",
    "\n",
    "# saving scoring data for future use\n",
    "rfull_tree_train_score = rfull_tree_fit.score(x_train, y_train).round(4) # accuracy\n",
    "rfull_tree_test_score  = rfull_tree_fit.score(x_test, y_test).round(4)   # accuracy\n",
    "rfull_tree_auc_score   = roc_auc_score(y_true  = y_test, \n",
    "                                       y_score = rfull_tree_test_pred).round(4) # auc\n"
   ]
  },
  {
   "cell_type": "markdown",
   "id": "e8e1f777",
   "metadata": {},
   "source": [
    "This output refers to the performance of a Random Forest Classifier model that has been trained and tested on some data. Here's what each line means:\n",
    "\n",
    "1. \"Model: Random Forest Classifier\" refers to the type of model that was used.\n",
    "2. \"Tuned Parameters\" refers to the hyperparameters of the model that were selected after tuning, which is a process of selecting the best set of hyperparameters for a machine learning model. The hyperparameters that were selected in this case are: 'bootstrap': True, 'max_depth': 10, 'max_features': 'auto', 'min_samples_leaf': 20, 'min_samples_split': 10, 'n_estimators': 100.\n",
    "3. \"Full Tree Training ACCURACY\" refers to the accuracy of the model when it was trained on the entire training set. In this case, the accuracy is 0.7379, which means that the model correctly predicted 73.79% of the training data.\n",
    "4. \"Full Tree Testing ACCURACY\" refers to the accuracy of the model when it was tested on a separate testing set that it had not seen during training. In this case, the accuracy is 0.7026, which means that the model correctly predicted 70.26% of the testing data.\n",
    "5. \"Full Tree AUC Score\" refers to the area under the Receiver Operating Characteristic (ROC) curve, which is a metric that measures the performance of a binary classifier at different classification thresholds. In this case, the AUC score is 0.5923, which means that the model has a moderate ability to distinguish between positive and negative classes."
   ]
  },
  {
   "cell_type": "markdown",
   "id": "e93ecd2b",
   "metadata": {},
   "source": [
    "We run the confusion matrix based on the test prediction data above for the Random Forest Classifier first."
   ]
  },
  {
   "cell_type": "code",
   "execution_count": 30,
   "id": "9b205703",
   "metadata": {},
   "outputs": [
    {
     "name": "stdout",
     "output_type": "stream",
     "text": [
      "[[ 17  48]\n",
      " [ 10 120]]\n"
     ]
    }
   ],
   "source": [
    "# creating a confusion matrix\n",
    "print(confusion_matrix(y_true = y_test,\n",
    "                       y_pred = rfull_tree_test_pred))"
   ]
  },
  {
   "cell_type": "markdown",
   "id": "e0a10855",
   "metadata": {},
   "source": [
    "We unpack the confusion matrix for Random Forest Classifier to understand better with nomenclature of True Negatives, False Positives, False Negatives, True Positives for better understanding of the confusion matrix values."
   ]
  },
  {
   "cell_type": "code",
   "execution_count": 31,
   "id": "fce57673",
   "metadata": {
    "scrolled": true
   },
   "outputs": [
    {
     "name": "stdout",
     "output_type": "stream",
     "text": [
      "\n",
      "True Negatives : 17\n",
      "False Positives: 48\n",
      "False Negatives: 10\n",
      "True Positives : 120\n",
      "\n"
     ]
    }
   ],
   "source": [
    "# unpacking the confusion matrix\n",
    "rtc_tn, \\\n",
    "rtc_fp, \\\n",
    "rtc_fn, \\\n",
    "rtc_tp = confusion_matrix(y_true = y_test, y_pred = rfull_tree_test_pred).ravel()\n",
    "\n",
    "\n",
    "# printing each result one-by-one\n",
    "print(f\"\"\"\n",
    "True Negatives : {rtc_tn}\n",
    "False Positives: {rtc_fp}\n",
    "False Negatives: {rtc_fn}\n",
    "True Positives : {rtc_tp}\n",
    "\"\"\")"
   ]
  },
  {
   "cell_type": "markdown",
   "id": "913f224e",
   "metadata": {},
   "source": [
    "This output is a confusion matrix, which is a table used to evaluate the performance of a binary classification model:\n",
    "\n",
    "1. True Negatives (TN) represent the number of negative examples that are correctly classified by the model. In this case, the model correctly predicted 17 negative examples.\n",
    "2. False Positives (FP) represent the number of negative examples that are incorrectly classified as positive by the model. In this case, the model incorrectly predicted 48 negative examples as positive.\n",
    "3. False Negatives (FN) represent the number of positive examples that are incorrectly classified as negative by the model. In this case, the model incorrectly predicted 10 positive examples as negative.\n",
    "4. True Positives (TP) represent the number of positive examples that are correctly classified by the model. In this case, the model correctly predicted 120 positive examples.\\\n",
    "In summary, the confusion matrix indicates that the model correctly predicted a high number of true positives, but it made a large number of errors in predicting false positives. The model also made some errors in predicting false negatives, but the number of false negatives is relatively low compared to the number of false positives. Depending on the context of the problem, these errors may have different implications for the overall performance of the model"
   ]
  },
  {
   "cell_type": "markdown",
   "id": "4bbdcd55",
   "metadata": {},
   "source": [
    "Based on the previous code we did for getting the visualization of the confusion matrix, we get the following output for analysis by inputting the required data."
   ]
  },
  {
   "cell_type": "code",
   "execution_count": 32,
   "id": "12483d80",
   "metadata": {},
   "outputs": [
    {
     "data": {
      "image/png": "[encoded data removed]",
      "text/plain": [
       "<Figure size 640x480 with 2 Axes>"
      ]
     },
     "metadata": {},
     "output_type": "display_data"
    }
   ],
   "source": [
    "# calling the visual_cm function\n",
    "visual_cm(true_y = y_test,\n",
    "          pred_y = rfull_tree_test_pred,\n",
    "          labels = ['Cross_Sell_Success', 'Not_Cross_Sell_Success'])"
   ]
  },
  {
   "cell_type": "code",
   "execution_count": 33,
   "id": "b102d875",
   "metadata": {},
   "outputs": [
    {
     "name": "stdout",
     "output_type": "stream",
     "text": [
      "('revenue', 0.15)\n",
      "('unique_meals_ordered', 0.08)\n",
      "('avg_time_per_site_visit', 0.15)\n",
      "('cancellations_after_noon', 0.16)\n",
      "('pc_logins', 0.03)\n",
      "('mobile_logins', 0.05)\n",
      "('domain_personal', 0.16)\n",
      "('domain_professional', 0.23)\n",
      "('low_rating', 0.0)\n"
     ]
    }
   ],
   "source": [
    "# zipping each feature name to its feature importance score\n",
    "randomforestclassifier_model_values = zip(Cross_Sell_Success_Data[category_dict['logit_sig_2']].columns,\n",
    "                          rfull_tree_fit.feature_importances_.round(decimals = 2))\n",
    "\n",
    "\n",
    "# setting up a placeholder list to store model features\n",
    "randomforestclassifier_model_lst = []\n",
    "\n",
    "# printing out each feature-importance pair one by one\n",
    "for val in randomforestclassifier_model_values:\n",
    "    randomforestclassifier_model_lst.append(val)\n",
    "\n",
    "# checking the results\n",
    "for pair in randomforestclassifier_model_lst:\n",
    "    print(pair)\n"
   ]
  },
  {
   "cell_type": "markdown",
   "id": "c7c494c9",
   "metadata": {},
   "source": [
    "We now use the Decision Tree Classifier as it had previously not worked well for me in the previous assignment as a Random Forest Regression. Hyperparameter tuning in the model itself and using the optimized parameters for the best output.\n",
    "We obtain the train score, test score, AUC score and print it all at the end for understanding the output."
   ]
  },
  {
   "cell_type": "code",
   "execution_count": 34,
   "id": "f3b84971",
   "metadata": {
    "scrolled": true
   },
   "outputs": [
    {
     "name": "stdout",
     "output_type": "stream",
     "text": [
      "Model                      : Decision Tree Classifier\n",
      "Tuned Parameters           : {'max_depth': 5, 'min_samples_leaf': 32, 'min_samples_split': 5}\n",
      "Full Tree Training ACCURACY: 0.7327\n",
      "Full Tree Testing ACCURACY : 0.7333\n",
      "Train-Test Gap (Accuracy)  : 0.0259\n",
      "Train-Test Gap (AUC)       : 0.0259\n",
      "Full Tree AUC Score        : 0.6577\n"
     ]
    }
   ],
   "source": [
    "# naming the model\n",
    "model = 'Decision Tree Classifier'\n",
    "\n",
    "# creating a hyperparameter grid\n",
    "param_grid = {'max_depth'         : [5] ,\n",
    "              'min_samples_split' : [5] ,\n",
    "              'min_samples_leaf'  : [32]}\n",
    "\n",
    "# creating a decision tree classifier\n",
    "dtc = DecisionTreeClassifier(random_state = 219)\n",
    "\n",
    "# creating a grid search object\n",
    "grid_search = GridSearchCV(dtc                    , \n",
    "                           param_grid = param_grid, \n",
    "                           cv         = 8         )\n",
    "\n",
    "# fitting the grid search object to the data\n",
    "grid_search.fit(X, y_data)\n",
    "\n",
    "full_tree_fit = grid_search.best_estimator_\n",
    "\n",
    "# splitting the data into testing and training sets\n",
    "x_train, x_test, y_train, y_test = train_test_split(X                 , \n",
    "                                                    y_data            , \n",
    "                                                    test_size    = 0.1, \n",
    "                                                    random_state = 219)\n",
    "\n",
    "# fitting the full tree model\n",
    "full_tree_fit = full_tree_fit.fit(x_train, y_train)\n",
    "\n",
    "# creating a set of predictions for both training and testing data\n",
    "full_tree_train_pred = full_tree_fit.predict(x_train)\n",
    "full_tree_test_pred  = full_tree_fit.predict(x_test)\n",
    "\n",
    "train_auc          = roc_auc_score(y_true  = y_train, \n",
    "                                   y_score = full_tree_train_pred)\n",
    "test_auc           = roc_auc_score(y_true  = y_test, \n",
    "                                   y_score = full_tree_test_pred)\n",
    "train_test_gap_auc = abs(train_auc - test_auc)\n",
    "\n",
    "# printing the best parameters and best score\n",
    "print('Model                      :', model)\n",
    "print(\"Tuned Parameters           :\", grid_search.best_params_)\n",
    "print('Full Tree Training ACCURACY:', full_tree_fit.score(x_train, y_train).round(4))\n",
    "print('Full Tree Testing ACCURACY :', full_tree_fit.score(x_test, y_test).round(4))\n",
    "print(\"Train-Test Gap (Accuracy)  :\", train_test_gap_auc.round(4))\n",
    "print(\"Train-Test Gap (AUC)       :\", train_test_gap_auc.round(4))\n",
    "print('Full Tree AUC Score        :', roc_auc_score(y_true = y_test, \n",
    "                                                   y_score = full_tree_test_pred).round(4))\n",
    "\n",
    "# saving scoring data for future use\n",
    "full_tree_train_score = full_tree_fit.score(x_train, y_train).round(4) # accuracy\n",
    "full_tree_test_score  = full_tree_fit.score(x_test, y_test).round(4)   # accuracy\n",
    "full_tree_auc_score   = roc_auc_score(y_true  = y_test, \n",
    "                                      y_score = full_tree_test_pred).round(4) # auc\n"
   ]
  },
  {
   "cell_type": "markdown",
   "id": "b01968c6",
   "metadata": {},
   "source": [
    "This output refers to the performance of a Decision Tree Classifier model that has been trained and tested on some data. Here's what each line means:\n",
    "\n",
    "1. \"Model: Decision Tree Classifier\" refers to the type of model that was used.\n",
    "2. \"Tuned Parameters\" refers to the hyperparameters of the model that were selected after tuning. The hyperparameters that were selected in this case are: 'max_depth': 5, 'min_samples_leaf': 32, 'min_samples_split': 5.\n",
    "3. \"Full Tree Training ACCURACY\" refers to the accuracy of the model when it was trained on the entire training set. In this case, the accuracy is 0.7327, which means that the model correctly predicted 73.27% of the training data.\n",
    "4. \"Full Tree Testing ACCURACY\" refers to the accuracy of the model when it was tested on a separate testing set that it had not seen during training. In this case, the accuracy is 0.7333, which means that the model correctly predicted 73.33% of the testing data.\n",
    "5. \"Train-Test Gap (Accuracy)\" refers to the difference in accuracy between the training and testing sets. In this case, the gap is 0.0187, which means that the model is overfitting to the training data to some extent, but the overfitting is not severe.\n",
    "6. \"Train-Test Gap (AUC)\" refers to the difference in AUC score between the training and testing sets. In this case, the gap is 0.0259, which is somewhat larger than the gap in accuracy, but still not severe.\n",
    "7. \"Full Tree AUC Score\" refers to the area under the Receiver Operating Characteristic (ROC) curve, which is a metric that measures the performance of a binary classifier at different classification thresholds. In this case, the AUC score is 0.6577, which indicates that the model has some ability to distinguish between positive and negative classes, but the discrimination is not strong."
   ]
  },
  {
   "cell_type": "markdown",
   "id": "080b0b87",
   "metadata": {},
   "source": [
    "We run the confusion matrix based on the test prediction data above for the Decision Tree Classifier now."
   ]
  },
  {
   "cell_type": "code",
   "execution_count": 35,
   "id": "244583e8",
   "metadata": {},
   "outputs": [
    {
     "name": "stdout",
     "output_type": "stream",
     "text": [
      "[[ 28  37]\n",
      " [ 15 115]]\n"
     ]
    }
   ],
   "source": [
    "# creating a confusion matrix\n",
    "print(confusion_matrix(y_true = y_test,\n",
    "                       y_pred = full_tree_test_pred))"
   ]
  },
  {
   "cell_type": "markdown",
   "id": "b1b1c03c",
   "metadata": {},
   "source": [
    "We unpack the confusion matrix for Decision Tree Classifier to understand better with nomenclature of True Negatives, False Positives, False Negatives, True Positives for better understanding of the confusion matrix values."
   ]
  },
  {
   "cell_type": "code",
   "execution_count": 36,
   "id": "6d430b46",
   "metadata": {},
   "outputs": [
    {
     "name": "stdout",
     "output_type": "stream",
     "text": [
      "\n",
      "True Negatives : 28\n",
      "False Positives: 37\n",
      "False Negatives: 15\n",
      "True Positives : 115\n",
      "\n"
     ]
    }
   ],
   "source": [
    "# unpacking the confusion matrix\n",
    "dtc_tn, \\\n",
    "dtc_fp, \\\n",
    "dtc_fn, \\\n",
    "dtc_tp = confusion_matrix(y_true = y_test, y_pred = full_tree_test_pred).ravel()\n",
    "\n",
    "\n",
    "# printing each result one-by-one\n",
    "print(f\"\"\"\n",
    "True Negatives : {dtc_tn}\n",
    "False Positives: {dtc_fp}\n",
    "False Negatives: {dtc_fn}\n",
    "True Positives : {dtc_tp}\n",
    "\"\"\")"
   ]
  },
  {
   "cell_type": "markdown",
   "id": "d0e1b14f",
   "metadata": {},
   "source": [
    "1. True Negatives (TN) represent the number of negative examples that are correctly classified by the model. In this case, the model correctly predicted 28 negative examples.\n",
    "2. False Positives (FP) represent the number of negative examples that are incorrectly classified as positive by the model. In this case, the model incorrectly predicted 37 negative examples as positive.\n",
    "3. False Negatives (FN) represent the number of positive examples that are incorrectly classified as negative by the model. In this case, the model incorrectly predicted 15 positive examples as negative.\n",
    "4. True Positives (TP) represent the number of positive examples that are correctly classified by the model. In this case, the model correctly predicted 115 positive examples.\\\n",
    "In summary, the confusion matrix indicates that the model correctly predicted a high number of true positives and true negatives, but it also made some errors in predicting false positives and false negatives. Depending on the context of the problem, these errors may have different implications for the overall performance of the model. For example, in some cases, minimizing false positives may be more important than minimizing false negatives, or vice versa."
   ]
  },
  {
   "cell_type": "markdown",
   "id": "2c5d88cc",
   "metadata": {},
   "source": [
    "Based on the previous code we did for getting the visualization of the confusion matrix, we get the following output for analysis by inputting the required data."
   ]
  },
  {
   "cell_type": "code",
   "execution_count": 37,
   "id": "19f6099f",
   "metadata": {},
   "outputs": [
    {
     "data": {
      "image/png": "[encoded data removed]",
      "text/plain": [
       "<Figure size 640x480 with 2 Axes>"
      ]
     },
     "metadata": {},
     "output_type": "display_data"
    }
   ],
   "source": [
    "# calling the visual_cm function\n",
    "visual_cm(true_y = y_test,\n",
    "          pred_y = full_tree_test_pred,\n",
    "          labels = ['Cross_Sell_Success', 'Not_Cross_Sell_Success'])"
   ]
  },
  {
   "cell_type": "code",
   "execution_count": 38,
   "id": "1752644d",
   "metadata": {},
   "outputs": [
    {
     "name": "stdout",
     "output_type": "stream",
     "text": [
      "0.6577\n"
     ]
    }
   ],
   "source": [
    "# area under the roc curve (auc)\n",
    "print(roc_auc_score(y_true  = y_test,\n",
    "                    y_score = full_tree_test_pred).round(decimals = 4))\n",
    "\n",
    "\n",
    "# saving AUC score for future use\n",
    "dtc_auc_score = roc_auc_score(y_true  = y_test,\n",
    "                                 y_score = full_tree_test_pred).round(decimals = 4)"
   ]
  },
  {
   "cell_type": "code",
   "execution_count": 39,
   "id": "48426f58",
   "metadata": {},
   "outputs": [
    {
     "name": "stdout",
     "output_type": "stream",
     "text": [
      "('revenue', 0.13)\n",
      "('unique_meals_ordered', 0.05)\n",
      "('avg_time_per_site_visit', 0.05)\n",
      "('cancellations_after_noon', 0.22)\n",
      "('pc_logins', 0.0)\n",
      "('mobile_logins', 0.04)\n",
      "('domain_personal', 0.29)\n",
      "('domain_professional', 0.22)\n",
      "('low_rating', 0.0)\n"
     ]
    }
   ],
   "source": [
    "# zipping each feature name to its feature importance score\n",
    "decisiontreeclassifier_model_values = zip(Cross_Sell_Success_Data[category_dict['logit_sig_2']].columns,\n",
    "                          full_tree_fit.feature_importances_.round(decimals = 2))\n",
    "\n",
    "\n",
    "# setting up a placeholder list to store model features\n",
    "decisiontreeclassifier_model_lst = []\n",
    "\n",
    "# printing out each feature-importance pair one by one\n",
    "for val in decisiontreeclassifier_model_values:\n",
    "    decisiontreeclassifier_model_lst.append(val)\n",
    "\n",
    "# checking the results\n",
    "for pair in decisiontreeclassifier_model_lst:\n",
    "    print(pair)\n"
   ]
  },
  {
   "cell_type": "code",
   "execution_count": 40,
   "id": "c3341368",
   "metadata": {},
   "outputs": [
    {
     "name": "stdout",
     "output_type": "stream",
     "text": [
      "\n",
      "Model         AUC Score      TN, FP, FN, TP\n",
      "-----         ---------      --------------\n",
      "rfc           0.5923        (17, 48, 10, 120)\n",
      "dtc           0.6577        (28, 37, 15, 115)\n",
      "\n"
     ]
    }
   ],
   "source": [
    "# comparing results\n",
    "print(f\"\"\"\n",
    "Model         AUC Score      TN, FP, FN, TP\n",
    "-----         ---------      --------------\n",
    "rfc           {rfull_tree_auc_score}        {rtc_tn, rtc_fp, rtc_fn, rtc_tp}\n",
    "dtc           {full_tree_auc_score}        {dtc_tn, dtc_fp, dtc_fn, dtc_tp}\n",
    "\"\"\")\n",
    "\n",
    "\n",
    "# creating a dictionary for model results\n",
    "model_performance = {\n",
    "    \n",
    "    'Model Name'        : ['rfc', 'dtc'],\n",
    "           \n",
    "    'AUC Score'         : [rfull_tree_auc_score, full_tree_auc_score],\n",
    "    \n",
    "    'Training Accuracy' : [rfull_tree_train_score, full_tree_train_score],\n",
    "           \n",
    "    'Testing Accuracy'  : [rfull_tree_test_score, full_tree_test_score],\n",
    "\n",
    "    'Confusion Matrix'  : [(rtc_tn, rtc_fp, rtc_fn, rtc_tp),\n",
    "                           (dtc_tn, dtc_fp, dtc_fn, dtc_tp)]}\n",
    "\n",
    "\n",
    "# converting model_performance into a DataFrame\n",
    "model_performance = pd.DataFrame(model_performance)\n"
   ]
  },
  {
   "cell_type": "code",
   "execution_count": 41,
   "id": "252bc49d",
   "metadata": {
    "deletable": false,
    "editable": false
   },
   "outputs": [
    {
     "name": "stdout",
     "output_type": "stream",
     "text": [
      "  Model Name  AUC Score  Training Accuracy  Testing Accuracy  \\\n",
      "0        rfc     0.5923             0.7379            0.7026   \n",
      "1        dtc     0.6577             0.7327            0.7333   \n",
      "\n",
      "    Confusion Matrix  \n",
      "0  (17, 48, 10, 120)  \n",
      "1  (28, 37, 15, 115)  \n"
     ]
    }
   ],
   "source": [
    "print(model_performance)"
   ]
  }
 ],
 "metadata": {
  "kernelspec": {
   "display_name": "Python 3 (ipykernel)",
   "language": "python",
   "name": "python3"
  },
  "language_info": {
   "codemirror_mode": {
    "name": "ipython",
    "version": 3
   },
   "file_extension": ".py",
   "mimetype": "text/x-python",
   "name": "python",
   "nbconvert_exporter": "python",
   "pygments_lexer": "ipython3",
   "version": "3.9.13"
  },
  "toc": {
   "base_numbering": 1,
   "nav_menu": {},
   "number_sections": true,
   "sideBar": true,
   "skip_h1_title": false,
   "title_cell": "Table of Contents",
   "title_sidebar": "Contents",
   "toc_cell": false,
   "toc_position": {},
   "toc_section_display": true,
   "toc_window_display": false
  },
  "varInspector": {
   "cols": {
    "lenName": 16,
    "lenType": 16,
    "lenVar": 40
   },
   "kernels_config": {
    "python": {
     "delete_cmd_postfix": "",
     "delete_cmd_prefix": "del ",
     "library": "var_list.py",
     "varRefreshCmd": "print(var_dic_list())"
    },
    "r": {
     "delete_cmd_postfix": ") ",
     "delete_cmd_prefix": "rm(",
     "library": "var_list.r",
     "varRefreshCmd": "cat(var_dic_list()) "
    }
   },
   "types_to_exclude": [
    "module",
    "function",
    "builtin_function_or_method",
    "instance",
    "_Feature"
   ],
   "window_display": false
  }
 },
 "nbformat": 4,
 "nbformat_minor": 5
}
