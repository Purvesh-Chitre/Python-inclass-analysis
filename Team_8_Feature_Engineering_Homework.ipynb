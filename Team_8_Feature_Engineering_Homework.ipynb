{
 "cells": [
  {
   "cell_type": "markdown",
   "id": "46a8a7a0",
   "metadata": {},
   "source": [
    "<hr style=\"height:.9px;border:none;color:#333;background-color:#333;\" />\n",
    "<hr style=\"height:.9px;border:none;color:#333;background-color:#333;\" />\n",
    "\n",
    "<h2>Homework - Feature Engineering</h2>\n",
    "<h4>DAT-5303 | Machine Learning</h4>\n",
    "\n",
    "<br>\n",
    "<hr style=\"height:.9px;border:none;color:#333;background-color:#333;\" />\n",
    "<hr style=\"height:.9px;border:none;color:#333;background-color:#333;\" />"
   ]
  },
  {
   "cell_type": "markdown",
   "id": "894d6d3d",
   "metadata": {},
   "source": [
    "**Team: TEAM 8**\n",
    "<br>\n",
    "Name: Giuseppe Almerico, Hirokazu Kobayashi, Joan Sottie, Mary Marmolejo, Purvesh Chitre"
   ]
  },
  {
   "cell_type": "markdown",
   "id": "a5eb8e6f",
   "metadata": {
    "deletable": false,
    "editable": false,
    "run_control": {
     "frozen": true
    }
   },
   "source": [
    "<hr style=\"height:.9px;border:none;color:#333;background-color:#333;\" />\n",
    "\n",
    "<h3>Step 1: Hypothesize on Features to Engineer</h3><br>\n",
    "Write a 2-3 sentence hypothesis on the effect you believe each new feature will have on the response variables (<em>Sale_Price</em> AND <em>log_Sale_Price</em>) in a markdown cell."
   ]
  },
  {
   "cell_type": "markdown",
   "id": "d9644195",
   "metadata": {},
   "source": [
    "Our hypothesis are based on analyzing the available data set and searching for potential correlations between variables. We developed three engineered features:\n",
    "<br>\n",
    "1. **Square Feet Area:** We believe that the net area of the house (Lot_Area minus the sum of the areas) is a key variable that can affect the price.\n",
    "<br>\n",
    "2. **House Health:** We believe that the overall quality of the house can influence the final price, so we created a ratio of Overall Quality (60%) and House Condition (40%).\n",
    "<br>\n",
    "3. **Plus Value:** Finally, we believe that the combination of optional features in a house can impact the price. We created a feature based on the sum of total bathrooms, mas vnr area, garage cars, and fireplaces."
   ]
  },
  {
   "cell_type": "markdown",
   "id": "bedf81be",
   "metadata": {
    "deletable": false,
    "editable": false,
    "run_control": {
     "frozen": true
    }
   },
   "source": [
    "<hr style=\"height:.9px;border:none;color:#333;background-color:#333;\" />\n",
    "<h3>Step 2: Code the New Features</h3><br>\n",
    "Use the code cell below to develop the features you have hypothesized."
   ]
  },
  {
   "cell_type": "code",
   "execution_count": 1,
   "id": "b153ad11",
   "metadata": {},
   "outputs": [],
   "source": [
    "# importing libraries\n",
    "\n",
    "import pandas            as pd   # data science essentials\n",
    "import matplotlib.pyplot as plt  # essential graphical output\n",
    "import seaborn           as sns  # enhanced graphical output\n",
    "\n",
    "# importing machine learning models\n",
    "from sklearn.tree     import DecisionTreeRegressor     # regression trees\n",
    "from sklearn.ensemble import RandomForestRegressor     # random forest\n",
    "from sklearn.ensemble import GradientBoostingRegressor # gbm\n",
    "\n",
    "# importing machine learning tools\n",
    "from sklearn.model_selection import train_test_split   # train-test split\n",
    "from sklearn.tree            import plot_tree          # tree plots\n",
    "\n",
    "\n",
    "# ***************************************************************************************************\n",
    "\n",
    "\n",
    "# specifying file name\n",
    "\n",
    "file = './__datasets/Ames Housing Dataset.xlsx'\n",
    "\n",
    "\n",
    "# reading the file into Python\n",
    "\n",
    "housing = pd.read_excel(io = file)\n",
    "\n",
    "\n",
    "# ***************************************************************************************************\n",
    "\n",
    "# 1st Feauture \" Square Feet Area\" (Sum of selected areas)\n",
    "\n",
    "housing['Sq_ft_area'] = housing['Gr_Liv_Area'] + housing['Total_Bsmt_SF'] + housing['Garage_Area']\\\n",
    "                     + housing['First_Flr_SF'] + housing['Second_Flr_SF'] + housing['Porch_Area']\n",
    "\n",
    "\n",
    "# 2nd Feauture \"House health\" is the sum of scores of overall qual and overal cond in -\n",
    "# - the proportion of 60:40 respectively\n",
    "\n",
    "housing['House_health'] = (housing['Overall_Qual']) * 0.6 + (housing['Overall_Cond']) * 0.4\n",
    "\n",
    "\n",
    "# 3rd Feature created with various datasets\n",
    "\n",
    "# Step 1 placeholder variable creation \" has Mas Vnr\"\n",
    "\n",
    "housing['has_Mas_Vnr']  = 0\n",
    "\n",
    "\n",
    "# change values in the new feature columns\n",
    "\n",
    "for index, value in housing.iterrows():\n",
    "\n",
    "    # has_Mas_Vnr\n",
    "    \n",
    "    if housing.loc[index, 'Mas_Vnr_Area'] > 0:\n",
    "        housing.loc[index, 'has_Mas_Vnr'] = 1\n",
    "\n",
    "        \n",
    "# Step 2 total bathrooms\n",
    "\n",
    "housing['Total_Bath'] = housing['Full_Bath'] + (housing['Half_Bath'] / 2)\n",
    "\n",
    "\n",
    "# Step 3  \"Plus value\" gathering all the created sub-features in we which have -\n",
    "# - Fireplaces, has Mas Vnr, Garage cars, Total bath\n",
    "\n",
    "housing['Plus_Value'] = housing['Fireplaces'] + housing['has_Mas_Vnr'] \\\n",
    "                       + housing['Garage_Cars'] + housing['Total_Bath']\n",
    "\n",
    "\n",
    "# housing log sale price\n",
    "housing['Log_Sale_Price'] = np.log(housing['Sale_Price'])\n",
    "\n",
    "\n",
    "# compalinig all our conditions together to get one dataset\n",
    "\n",
    "new_data = ['Sale_Price',\n",
    "            'Log_Sale_Price', \n",
    "            'Sq_ft_area',\n",
    "            'House_health', \n",
    "            'Plus_Value']\n",
    "\n",
    "\n",
    "# ***************************************************************************************************\n",
    "\n"
   ]
  },
  {
   "cell_type": "markdown",
   "id": "f095cc33",
   "metadata": {
    "deletable": false,
    "editable": false,
    "run_control": {
     "frozen": true
    }
   },
   "source": [
    "<hr style=\"height:.9px;border:none;color:#333;background-color:#333;\" />\n",
    "<h3>Step 3: Check the Results</h3><br>\n",
    "Develop a correlation matrix or a heatmap to show the linear relationships between your five new features and the response variables (<em>Sale_Price</em> AND <em>log_Sale_Price</em>)."
   ]
  },
  {
   "cell_type": "code",
   "execution_count": 98,
   "id": "69c3cdaa",
   "metadata": {},
   "outputs": [
    {
     "data": {
      "image/png": "[encoded data removed]",
      "text/plain": [
       "<Figure size 1000x1000 with 2 Axes>"
      ]
     },
     "metadata": {},
     "output_type": "display_data"
    },
    {
     "data": {
      "text/html": [
       "<div>\n",
       "<style scoped>\n",
       "    .dataframe tbody tr th:only-of-type {\n",
       "        vertical-align: middle;\n",
       "    }\n",
       "\n",
       "    .dataframe tbody tr th {\n",
       "        vertical-align: top;\n",
       "    }\n",
       "\n",
       "    .dataframe thead th {\n",
       "        text-align: right;\n",
       "    }\n",
       "</style>\n",
       "<table border=\"1\" class=\"dataframe\">\n",
       "  <thead>\n",
       "    <tr style=\"text-align: right;\">\n",
       "      <th></th>\n",
       "      <th>Sq_ft_area</th>\n",
       "      <th>House_health</th>\n",
       "      <th>Plus_Value</th>\n",
       "      <th>Sale_Price</th>\n",
       "    </tr>\n",
       "  </thead>\n",
       "  <tbody>\n",
       "    <tr>\n",
       "      <th>0</th>\n",
       "      <td>5192.0</td>\n",
       "      <td>5.6</td>\n",
       "      <td>6.0</td>\n",
       "      <td>215000</td>\n",
       "    </tr>\n",
       "    <tr>\n",
       "      <th>1</th>\n",
       "      <td>3664.0</td>\n",
       "      <td>5.4</td>\n",
       "      <td>2.0</td>\n",
       "      <td>105000</td>\n",
       "    </tr>\n",
       "    <tr>\n",
       "      <th>2</th>\n",
       "      <td>4728.0</td>\n",
       "      <td>6.0</td>\n",
       "      <td>3.5</td>\n",
       "      <td>172000</td>\n",
       "    </tr>\n",
       "    <tr>\n",
       "      <th>3</th>\n",
       "      <td>6852.0</td>\n",
       "      <td>6.2</td>\n",
       "      <td>6.5</td>\n",
       "      <td>244000</td>\n",
       "    </tr>\n",
       "    <tr>\n",
       "      <th>4</th>\n",
       "      <td>4914.0</td>\n",
       "      <td>5.0</td>\n",
       "      <td>5.5</td>\n",
       "      <td>189900</td>\n",
       "    </tr>\n",
       "  </tbody>\n",
       "</table>\n",
       "</div>"
      ],
      "text/plain": [
       "   Sq_ft_area  House_health  Plus_Value  Sale_Price\n",
       "0      5192.0           5.6         6.0      215000\n",
       "1      3664.0           5.4         2.0      105000\n",
       "2      4728.0           6.0         3.5      172000\n",
       "3      6852.0           6.2         6.5      244000\n",
       "4      4914.0           5.0         5.5      189900"
      ]
     },
     "execution_count": 98,
     "metadata": {},
     "output_type": "execute_result"
    }
   ],
   "source": [
    "# developing a correlation matrix based on continuous features\n",
    "\n",
    "housing_corr = housing[new_data].corr(method = 'pearson')\n",
    "\n",
    "\n",
    "# filtering the results to only show correlations with Sale_Price\n",
    "\n",
    "housing_corr.loc[ : , : ].round(decimals = 2)\n",
    "\n",
    "\n",
    "# specifying plot size (making it bigger)\n",
    "\n",
    "fig, ax = plt.subplots( figsize = (10 , 10) )\n",
    "\n",
    "\n",
    "# developing a freezing cold heatmap\n",
    "\n",
    "sns.heatmap(data       = housing_corr , # the correlation matrix\n",
    "            cmap       = 'Blues'      , # changing to blue colors\n",
    "            square     = True         , # tightening the layout\n",
    "            annot      = True         , # should there be numbers in the heatmap\n",
    "            linecolor  = 'black'      , # lines between boxes\n",
    "            linewidths = 0.5          ) # how thick should the lines be\n",
    "\n",
    "\n",
    "# title and displaying the plot\n",
    "\n",
    "plt.title(label = \"\"\"Feature Engineering Analysis\\n\"\"\")\n",
    "\n",
    "\n",
    "# rendering the visualization\n",
    "\n",
    "plt.show(block = True)\n",
    "\n",
    "\n",
    "# showing the new created temporary columns for the data analysis\n",
    "\n",
    "housing[['Sq_ft_area', 'House_health', 'Plus_Value', 'Sale_Price']].head(n=5)"
   ]
  },
  {
   "cell_type": "markdown",
   "id": "984ec44b",
   "metadata": {
    "deletable": false,
    "editable": false,
    "run_control": {
     "frozen": true
    }
   },
   "source": [
    "<hr style=\"height:.9px;border:none;color:#333;background-color:#333;\" />\n",
    "<h3>Step 4: Explain the Results</h3><br>\n",
    "Did your engineered features have the effect that was expected? Explain in 1-2 sentences for each engineered feature."
   ]
  },
  {
   "cell_type": "markdown",
   "id": "82fdb9fd",
   "metadata": {},
   "source": [
    "Based on the correlation analysis performed, the results confirmed our hypotheses (H1-H2-H3).\n",
    "\n",
    "1) **Square Feet Area :** the correlation shows a value of 0.81(Sale Price) and 0.80(Log Sale Price)\n",
    "\n",
    "2) **House Health :** In the second case, the correlation demonstrates a value of 0.69(Sale Price) and 0.74(Log Sale Price)\n",
    "\n",
    "3) **Plus Value :** Finally, the last feature demonstrates a correlation of 0.75(Sale Price) and 0.79 (Log Sale Price)."
   ]
  }
 ],
 "metadata": {
  "kernelspec": {
   "display_name": "Python 3 (ipykernel)",
   "language": "python",
   "name": "python3"
  },
  "language_info": {
   "codemirror_mode": {
    "name": "ipython",
    "version": 3
   },
   "file_extension": ".py",
   "mimetype": "text/x-python",
   "name": "python",
   "nbconvert_exporter": "python",
   "pygments_lexer": "ipython3",
   "version": "3.9.13"
  },
  "toc": {
   "base_numbering": 1,
   "nav_menu": {},
   "number_sections": false,
   "sideBar": true,
   "skip_h1_title": false,
   "title_cell": "Table of Contents",
   "title_sidebar": "Contents",
   "toc_cell": false,
   "toc_position": {},
   "toc_section_display": true,
   "toc_window_display": false
  },
  "varInspector": {
   "cols": {
    "lenName": 16,
    "lenType": 16,
    "lenVar": 40
   },
   "kernels_config": {
    "python": {
     "delete_cmd_postfix": "",
     "delete_cmd_prefix": "del ",
     "library": "var_list.py",
     "varRefreshCmd": "print(var_dic_list())"
    },
    "r": {
     "delete_cmd_postfix": ") ",
     "delete_cmd_prefix": "rm(",
     "library": "var_list.r",
     "varRefreshCmd": "cat(var_dic_list()) "
    }
   },
   "types_to_exclude": [
    "module",
    "function",
    "builtin_function_or_method",
    "instance",
    "_Feature"
   ],
   "window_display": false
  }
 },
 "nbformat": 4,
 "nbformat_minor": 5
}
