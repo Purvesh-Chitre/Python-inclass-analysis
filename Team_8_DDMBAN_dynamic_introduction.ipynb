{
 "cells": [
  {
   "cell_type": "code",
   "execution_count": 45,
   "id": "ac0d4561",
   "metadata": {},
   "outputs": [],
   "source": [
    "# importing pandas for creating dataframes later\n",
    "\n",
    "import pandas as pd\n"
   ]
  },
  {
   "cell_type": "code",
   "execution_count": 59,
   "id": "01df0949",
   "metadata": {},
   "outputs": [],
   "source": [
    "# Creating / pre-defining the lists for member number, member names, countries, education\n",
    "\n",
    "tm = [1, 2, 3, 4, 5]\n",
    "mn = [\"Giuseppe\", \"Hirokazu\", \"Joan\", \"Mary\", \"Purvesh\"]\n",
    "mc = [\"Italy\", \"Japan\", \"Ghana\", \"Peru?\", \"India\"]\n",
    "ed = [\"MIB-MBAN\", \"MBA-MBAN\", \"MBA-MBAN\", \"MIB?-MBAN\", \"MIB-MBAN\"]\n",
    "lan = [3, 2, 3, 2, 3]"
   ]
  },
  {
   "cell_type": "code",
   "execution_count": null,
   "id": "3e867097",
   "metadata": {},
   "outputs": [],
   "source": [
    "# Campus list\n",
    "\n",
    "previous_campus = [\"San Francisco\", \"Boston\", \"London\", \"Dubai\"]\n",
    "\n"
   ]
  },
  {
   "cell_type": "code",
   "execution_count": 58,
   "id": "d120c403",
   "metadata": {},
   "outputs": [
    {
     "name": "stdout",
     "output_type": "stream",
     "text": [
      "Boston\n",
      "You were from the same campus as Giuseppe, Joan and Purvesh\n"
     ]
    }
   ],
   "source": [
    "# Campus commonality\n",
    "if input() in (\"Boston\"):\n",
    "    print(f\"\"\"You were from the same campus as Giuseppe, Joan and Purvesh\"\"\")\n",
    "\n",
    "elif input() in (\"San Francisco\"):\n",
    "    print(f\"\"\"You were from the same campus as Hiorkazu\"\"\")\n",
    "else :\n",
    "    print(f\"\"\"You were from the same campus as Mary\"\"\")"
   ]
  },
  {
   "cell_type": "code",
   "execution_count": null,
   "id": "f0edeb04",
   "metadata": {},
   "outputs": [],
   "source": [
    "# Skills list\n"
   ]
  },
  {
   "cell_type": "code",
   "execution_count": 47,
   "id": "89764f31",
   "metadata": {},
   "outputs": [
    {
     "name": "stdout",
     "output_type": "stream",
     "text": [
      "Hello everyone we are team 8!\n"
     ]
    }
   ],
   "source": [
    "# Greetings and basic team introduction p1\n",
    "\n",
    "print(f\"\"\"Hello everyone we are team 8!\"\"\")\n"
   ]
  },
  {
   "cell_type": "code",
   "execution_count": 51,
   "id": "4e46ae00",
   "metadata": {},
   "outputs": [
    {
     "name": "stdout",
     "output_type": "stream",
     "text": [
      "N\n",
      "We still have 5 members in the team.\n"
     ]
    }
   ],
   "source": [
    "# Asking if you want to know more about team 8\n",
    "if input() in (\"Y\", \"Yes\"):\n",
    "    print(f\"\"\"We have 5 members in the team.\"\"\")\n",
    "\n",
    "else :\n",
    "    print(f\"\"\"We still have 5 members in the team.\"\"\")\n"
   ]
  },
  {
   "cell_type": "code",
   "execution_count": 48,
   "id": "bbc1e54f",
   "metadata": {},
   "outputs": [
    {
     "name": "stdout",
     "output_type": "stream",
     "text": [
      "We have 5 members in the team.\n"
     ]
    }
   ],
   "source": [
    "# Basic introduction p2\n",
    "\n",
    "print(f\"\"\"We have 5 members in the team.\"\"\")\n"
   ]
  },
  {
   "cell_type": "code",
   "execution_count": 61,
   "id": "12c975ee",
   "metadata": {},
   "outputs": [
    {
     "name": "stdout",
     "output_type": "stream",
     "text": [
      "   team_member member_name member-country  education  num of languages\n",
      "0            1    Giuseppe          Italy   MIB-MBAN                 3\n",
      "1            2    Hirokazu          Japan   MBA-MBAN                 2\n",
      "2            3        Joan          Ghana   MBA-MBAN                 3\n",
      "3            4        Mary          Peru?  MIB?-MBAN                 2\n",
      "4            5     Purvesh          India   MIB-MBAN                 3\n"
     ]
    }
   ],
   "source": [
    "# Creating the dictionary by utilizing pre-defined lists\n",
    "\n",
    "member_introduction = {'team_member':tm, 'member_name':mn, 'member-country':mc,  'education':ed, 'num of languages':lan}\n",
    "\n",
    "# Creating the dataframe with the help of pandas\n",
    "\n",
    "memb_intro = pd.DataFrame(member_introduction)\n",
    "\n",
    "# Printing the member details in a tabular format\n",
    "\n",
    "print(memb_intro)\n"
   ]
  },
  {
   "cell_type": "code",
   "execution_count": 68,
   "id": "7fc72de3",
   "metadata": {},
   "outputs": [
    {
     "ename": "TypeError",
     "evalue": "'>' not supported between instances of 'list' and 'int'",
     "output_type": "error",
     "traceback": [
      "\u001b[0;31m---------------------------------------------------------------------------\u001b[0m",
      "\u001b[0;31mTypeError\u001b[0m                                 Traceback (most recent call last)",
      "\u001b[0;32m/var/folders/5t/3hyc_jv11vzdszkpg_b7yhqm0000gn/T/ipykernel_98602/1798319578.py\u001b[0m in \u001b[0;36m<module>\u001b[0;34m\u001b[0m\n\u001b[1;32m      2\u001b[0m \u001b[0;31m# How many languages do you speak?\u001b[0m\u001b[0;34m\u001b[0m\u001b[0;34m\u001b[0m\u001b[0m\n\u001b[1;32m      3\u001b[0m \u001b[0;34m\u001b[0m\u001b[0m\n\u001b[0;32m----> 4\u001b[0;31m \u001b[0;32mif\u001b[0m \u001b[0mlan\u001b[0m \u001b[0;34m>\u001b[0m \u001b[0;36m3\u001b[0m\u001b[0;34m:\u001b[0m\u001b[0;34m\u001b[0m\u001b[0;34m\u001b[0m\u001b[0m\n\u001b[0m\u001b[1;32m      5\u001b[0m     \u001b[0mprint\u001b[0m\u001b[0;34m(\u001b[0m\u001b[0;34mf\"\"\"Congratulations you speak more languages than anyone on Team 8!\"\"\"\u001b[0m\u001b[0;34m)\u001b[0m\u001b[0;34m\u001b[0m\u001b[0;34m\u001b[0m\u001b[0m\n\u001b[1;32m      6\u001b[0m \u001b[0;34m\u001b[0m\u001b[0m\n",
      "\u001b[0;31mTypeError\u001b[0m: '>' not supported between instances of 'list' and 'int'"
     ]
    }
   ],
   "source": [
    "# entering number of languages\n",
    "# How many languages do you speak?\n",
    "\n",
    "if lan > 3:\n",
    "    print(f\"\"\"Congratulations you speak more languages than anyone on Team 8!\"\"\")\n",
    "\n",
    "if lan == 2:\n",
    "    print(f\"\"\"Congratulations you speak same number of languages as someone on Team 8!\"\"\")"
   ]
  },
  {
   "cell_type": "code",
   "execution_count": 148,
   "id": "826909e9",
   "metadata": {},
   "outputs": [
    {
     "name": "stdout",
     "output_type": "stream",
     "text": [
      "\n",
      "    team_member member_name member_country  education  num of languages  \\\n",
      "0            1    Giuseppe          Italy   MIB-MBAN                 3   \n",
      "1            2    Hirokazu          Japan   MBA-MBAN                 2   \n",
      "2            3        Joan          Ghana   MBA-MBAN                 3   \n",
      "3            4        Mary           Peru  MFIN-MBAN                 2   \n",
      "4            5     Purvesh          India   MIB-MBAN                 3   \n",
      "\n",
      "             skills previous_campus  \n",
      "0  Dynamic-thinking          Boston  \n",
      "1       Mathematics   San Francisco  \n",
      "2          Business          Boston  \n",
      "3           Finance           Dubai  \n",
      "4       Engineering          Boston   \n",
      "\n",
      "\n",
      "Which team are you from?\n",
      "7\n",
      "Welcome Team: 7 . \n",
      " Hello, we are the EIGHTEAM (team 8).\n",
      " We have a wonderful business idea for you, our valuable investors.\n",
      " Our team of 5 consists of Giuseppe, Hirokazu, Joan, Mary and Purvesh and we met at Hult.\n",
      " We are between the ages of 25 - 40 years old.\n",
      "\n",
      "\n",
      "Would you like to know how we came about this idea?\n",
      "y\n",
      "Purvesh and Giuseppe have around 10  years of combined experience in the food industry and logistics.\n",
      " After a team meeting at Hult International Business School, we realized that we have the key skills to create the EIGHTEAM.\n",
      " With EighTeam we want to Automize the inventory logistics for companies in the food industry. Implementing technology for the process automation.\n",
      "\n",
      "\n",
      "Would you like to know how we can increase the efficiency from a cost perspective?\n",
      "y\n",
      "After realizing the lack of finance skills we decided to invite to our team Mary who has been working as a financial analyst, and Hiro which is a mathematician specialized in data engineering.\n",
      " Together they work in the finance aspects of the startup by developing a robust financial model in the inventory management optimization with backlog ordering.\n",
      "\n",
      "\n",
      "Would you like to know who has the big picture? How you can increase your internal productivity ?\n",
      "y\n",
      "Joan having finance background and having an MBA gave the much needed leadership and management with rounding up of all the team members into a cohesive and collaborative team.\n",
      "\n",
      "\n",
      "Would you be interested in knowing the benefits of our business services to our prospects?\n",
      "y\n",
      "By using EIGHTEAM , our prospects, avoid human mistakes, optimize performance in inventory backlog and improve efficiency in the internal workflow.\n",
      "\n",
      "\n",
      "Please type (e) to know our development and launch to market financial requirements.\n",
      "e\n",
      "Our business plan is split on :\n",
      " - 50 K to develop the software \n",
      " - 25 K to advertisement and marketing \n",
      "\n",
      " The total request is 75K\n",
      "\n",
      "\n",
      "As an invester how much would you be willing to provide against what percent of our company equity? Please choose from the following :\n",
      " 1 - 75 K for 10% equity.\n",
      " 2 - 75 K for 15% equity.\n",
      " 3 - 75 K for 20% equity.\n",
      "2\n",
      "Thank you for your interest!\n",
      " We accept the offer! Lets work together to make EIGHTEAM a huge success\n"
     ]
    }
   ],
   "source": [
    "###########\n",
    "# New code\n",
    "###########\n",
    "\n",
    "#Importing pandas for creating dataframe\n",
    "\n",
    "import pandas as pd\n",
    "\n",
    "#Creating the dictionary to utilize lists\n",
    "\n",
    "tm = [1, 2, 3, 4, 5]\n",
    "mn = [\"Giuseppe\", \"Hirokazu\", \"Joan\", \"Mary\", \"Purvesh\"]\n",
    "mc = [\"Italy\", \"Japan\", \"Ghana\", \"Peru\", \"India\"]\n",
    "ed = [\"MIB-MBAN\", \"MBA-MBAN\", \"MBA-MBAN\", \"MFIN-MBAN\", \"MIB-MBAN\"]\n",
    "lan =[3, 2, 3, 2, 3]\n",
    "sk = [\"Dynamic-thinking\", \"Mathematics\", \"Business\", \"Finance\", \"Engineering\"]\n",
    "pc = [\"Boston\", \"San Francisco\", \"Boston\",\"Dubai\",\"Boston\"]\n",
    "\n",
    "# Creating the dictionary by utilizing pre-defined lists\n",
    "\n",
    "member_introduction = {'team_member':tm,'member_name':mn, 'member_country':mc,'education':ed,'num of languages':lan,'skills':sk,\n",
    "'previous_campus':pc}\n",
    "\n",
    "# Creating the dataframe with the help of pandas\n",
    "\n",
    "memb_intro = pd.DataFrame(member_introduction)\n",
    "\n",
    "# Printing the member details in a tabular format\n",
    "\n",
    "print(\"\\n\", memb_intro,\"\\n\\n\")\n",
    "\n",
    "########################################################################################\n",
    "\n",
    "## Greetings and basic team introduction. Capitalize the team name eighteam to Eighteam.\n",
    "\n",
    "q_team = input(f\"\"\"Which team are you from?\\n\"\"\")\n",
    "\n",
    "print(\"Welcome Team:\",(q_team),\".\",\"\\n\",f\"\"\"Hello, we are the\"\"\", str.upper(\"eighteam\"), \"\"\"(team 8).\\n We have a wonderful business idea for you, our valuable investors.\\n Our team of 5 consists of Giuseppe, Hirokazu, Joan, Mary and Purvesh and we met at Hult.\\n We are between the ages of 25 - 40 years old.\\n\\n\"\"\")\n",
    "\n",
    "## Q.1 How did we come up with this idea?\n",
    "\n",
    "answer = input(f\"\"\"Would you like to know how we came about this idea?\\n\"\"\")\n",
    "\n",
    "if answer in (\"Y, Yes, y, YES, yes\"):\n",
    "    print(f\"\"\"Purvesh and Giuseppe have around 10  years of combined experience in the food industry and logistics.\\n After a team meeting at Hult International Business School, we realized that we have the key skills to create the\"\"\", str.upper(\"eighteam.\\n\"),\"\"\"With EighTeam we want to Automize the inventory logistics for companies in the food industry. Implementing technology for the process automation.\\n\\n\"\"\")\n",
    "\n",
    "else :\n",
    "    print(f\"\"\"Sorry to know that you are not interested in knowing more about our idea.\\n\\n\"\"\")\n",
    "\n",
    "## Q.2 How can you  increase the efficiency under a cost perspective? \n",
    "\n",
    "answer1 = input(f\"\"\"Would you like to know how we can increase the efficiency from a cost perspective?\\n\"\"\")\n",
    "\n",
    "if answer1 in (\"Y, Yes, y, YES, yes\"):\n",
    "    print(f\"\"\"After realizing the lack of finance skills we decided to invite to our team Mary who has been working as a financial analyst, and Hiro which is a mathematician specialized in data engineering.\\n Together they work in the finance aspects of the startup by developing a robust financial model in the inventory management optimization with backlog ordering.\\n\\n\"\"\")\n",
    "\n",
    "else :\n",
    "    print(f\"\"\"Sorry to know that you are not interested in knowing more about our team's financial experts.\\n\\n\"\"\")\n",
    "    \n",
    "## Q.3 Who has the big picture? How you can increase your internal productivity?\n",
    "    \n",
    "answer2 = input(f\"\"\"Would you like to know who has the big picture? How you can increase your internal productivity ?\\n\"\"\")\n",
    "\n",
    "if answer2 in (\"Y, Yes, y, YES, yes\"):\n",
    "    print(f\"\"\"Joan having finance background and having an MBA gave the much needed leadership and management with rounding up of all the team members into a cohesive and collaborative team.\\n\\n\"\"\")\n",
    "\n",
    "else :\n",
    "    print(f\"\"\"Sorry to know that you are not interested in knowing more about our team's leadership.\\n\\n\"\"\")\n",
    "    \n",
    "## Q.4 What does your business help with and why we should invest in the business?\n",
    "\n",
    "answer3 = input(f\"\"\"Would you be interested in knowing the benefits of our business services to our prospects?\\n\"\"\")\n",
    "\n",
    "if answer3 in (\"Y, Yes, y, YES, yes\"):\n",
    "    print(f\"\"\"By using\"\"\", str.upper(\"eighteam\"),\"\"\", our prospects, avoid human mistakes, optimize performance in inventory backlog and improve efficiency in the internal workflow.\\n\\n\"\"\")\n",
    "    \n",
    "else :\n",
    "    print(f\"\"\"Sorry to know that you are not interested in knowing more about the benifits our business services brings to our prospects.\\n\\n\"\"\")\n",
    "\n",
    "## Q.5 How much money do you need to develop the software and launch it into the market?\n",
    "\n",
    "answer4 = input(f\"\"\"Please type (e) to know our development and launch to market financial requirements.\\n\"\"\")\n",
    "\n",
    "if answer4 == \"e\" or \"E\":\n",
    "    print(\"Our business plan is split on :\\n - 50 K to develop the software \\n - 25 K to advertisement and marketing \\n\\n The total request is 75K\\n\\n\")\n",
    "\n",
    "else :\n",
    "    print(\"You've come this far, please go on and read further.\\n Our business plan is split on :\\n - 50 K to develop the software \\n - 25 K to advertise and Marketing \\n\\n The total request is 75K\\n\\n\")\n",
    "    \n",
    "## Q.6 As an investor we expect ROI of 35% and 20% your company equity.\n",
    "\n",
    "answer5 = int(input(f\"\"\"As an invester how much would you be willing to provide against what percent of our company equity? Please choose from the following :\\n 1 - 75 K for 10% equity.\\n 2 - 75 K for 15% equity.\\n 3 - 75 K for 20% equity.\\n\"\"\"))\n",
    "\n",
    "if answer5 < 3 :\n",
    "    print(\"Thank you for your interest!\\n We accept the offer! Lets work together to make\", str.upper(\"eighteam\"), \"a huge success!!\")\n",
    "\n",
    "elif answer5 == 3 :\n",
    "    print(\"Thank you for your interest.\\n We would like to discuss further with the team before we accept the offer.\\n\\n\")\n",
    "\n",
    "else :\n",
    "    print(\"We are unable to comprahend the provided input.\\n Please try running this code again from the beginning and chose the correct option.\\n\")\n",
    "    \n",
    "##############################################################################\n",
    "    # END #\n",
    "##############################################################################\n",
    "    \n",
    "    "
   ]
  },
  {
   "cell_type": "code",
   "execution_count": null,
   "id": "219145a1",
   "metadata": {},
   "outputs": [],
   "source": []
  }
 ],
 "metadata": {
  "kernelspec": {
   "display_name": "Python 3 (ipykernel)",
   "language": "python",
   "name": "python3"
  },
  "language_info": {
   "codemirror_mode": {
    "name": "ipython",
    "version": 3
   },
   "file_extension": ".py",
   "mimetype": "text/x-python",
   "name": "python",
   "nbconvert_exporter": "python",
   "pygments_lexer": "ipython3",
   "version": "3.9.13"
  },
  "toc": {
   "base_numbering": 1,
   "nav_menu": {},
   "number_sections": true,
   "sideBar": true,
   "skip_h1_title": false,
   "title_cell": "Table of Contents",
   "title_sidebar": "Contents",
   "toc_cell": false,
   "toc_position": {},
   "toc_section_display": true,
   "toc_window_display": false
  },
  "varInspector": {
   "cols": {
    "lenName": 16,
    "lenType": 16,
    "lenVar": 40
   },
   "kernels_config": {
    "python": {
     "delete_cmd_postfix": "",
     "delete_cmd_prefix": "del ",
     "library": "var_list.py",
     "varRefreshCmd": "print(var_dic_list())"
    },
    "r": {
     "delete_cmd_postfix": ") ",
     "delete_cmd_prefix": "rm(",
     "library": "var_list.r",
     "varRefreshCmd": "cat(var_dic_list()) "
    }
   },
   "types_to_exclude": [
    "module",
    "function",
    "builtin_function_or_method",
    "instance",
    "_Feature"
   ],
   "window_display": false
  }
 },
 "nbformat": 4,
 "nbformat_minor": 5
}
